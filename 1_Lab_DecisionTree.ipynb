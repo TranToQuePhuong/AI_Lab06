{
  "nbformat": 4,
  "nbformat_minor": 0,
  "metadata": {
    "colab": {
      "name": "1-Lab-DecisionTree.ipynb",
      "provenance": [],
      "collapsed_sections": [],
      "toc_visible": true,
      "include_colab_link": true
    },
    "kernelspec": {
      "display_name": "Python 3",
      "language": "python",
      "name": "python3"
    },
    "language_info": {
      "codemirror_mode": {
        "name": "ipython",
        "version": 3
      },
      "file_extension": ".py",
      "mimetype": "text/x-python",
      "name": "python",
      "nbconvert_exporter": "python",
      "pygments_lexer": "ipython3",
      "version": "3.7.3"
    }
  },
  "cells": [
    {
      "cell_type": "markdown",
      "metadata": {
        "id": "view-in-github",
        "colab_type": "text"
      },
      "source": [
        "<a href=\"https://colab.research.google.com/github/TranToQuePhuong/AI_Lab06/blob/master/1_Lab_DecisionTree.ipynb\" target=\"_parent\"><img src=\"https://colab.research.google.com/assets/colab-badge.svg\" alt=\"Open In Colab\"/></a>"
      ]
    },
    {
      "cell_type": "markdown",
      "metadata": {
        "colab_type": "text",
        "id": "gvKshvFzQorr"
      },
      "source": [
        "# Decision Tree in Python"
      ]
    },
    {
      "cell_type": "markdown",
      "metadata": {
        "colab_type": "text",
        "id": "YeHd4gDaQ0_c"
      },
      "source": [
        "## Introduction"
      ]
    },
    {
      "cell_type": "markdown",
      "metadata": {
        "colab_type": "text",
        "id": "VxauYFNjYzWw"
      },
      "source": [
        "\n",
        "* Author: thuanle@hcmut.edu.vn\n",
        "\n",
        "* Content:\n",
        "  - Practice the DecisionTree classifier\n",
        "  - Learn more about split the dataset into train and test.\n",
        "  - Evaluation by Accuracy score\n",
        "* Major steps:\n",
        "  - Load data from CSV, split into trainning set and test set\n",
        "  - Buidling kNN model.\n",
        "  - Evaluating results\n",
        "  - Training DecisionTree classifier model\n",
        "  - Evaluating results\n",
        "  - Visualize models"
      ]
    },
    {
      "cell_type": "markdown",
      "metadata": {
        "colab_type": "text",
        "id": "iqHlfOFUVQAD"
      },
      "source": [
        "## Configuration"
      ]
    },
    {
      "cell_type": "code",
      "metadata": {
        "colab_type": "code",
        "id": "hFmx_vCrVEX3",
        "colab": {}
      },
      "source": [
        "dataset_filename = \"bill_authentication.csv\""
      ],
      "execution_count": 0,
      "outputs": []
    },
    {
      "cell_type": "markdown",
      "metadata": {
        "colab_type": "text",
        "id": "H89hX3QbQor2"
      },
      "source": [
        "## Grab the data\n",
        "\n",
        "Since our file is in CSV format, we will use panda's read_csv method to read our CSV data file. Execute the following script to do so:"
      ]
    },
    {
      "cell_type": "code",
      "metadata": {
        "colab_type": "code",
        "id": "t85tLpXzQor5",
        "outputId": "11fc26e5-3cf6-400e-ac73-7592b82c6ab1",
        "colab": {
          "base_uri": "https://localhost:8080/",
          "height": 34
        }
      },
      "source": [
        "import pandas as pd  \n",
        "dataset = pd.read_csv(dataset_filename)\n",
        "dataset.shape"
      ],
      "execution_count": 18,
      "outputs": [
        {
          "output_type": "execute_result",
          "data": {
            "text/plain": [
              "(1372, 5)"
            ]
          },
          "metadata": {
            "tags": []
          },
          "execution_count": 18
        }
      ]
    },
    {
      "cell_type": "code",
      "metadata": {
        "colab_type": "code",
        "id": "A0dBLnZKQosF",
        "outputId": "361515d1-6df9-48d6-a08b-94dba937916f",
        "colab": {
          "base_uri": "https://localhost:8080/",
          "height": 34
        }
      },
      "source": [
        "# Overview about dataset\n",
        "dataset.keys()"
      ],
      "execution_count": 19,
      "outputs": [
        {
          "output_type": "execute_result",
          "data": {
            "text/plain": [
              "Index(['Variance', 'Skewness', 'Curtosis', 'Entropy', 'Class'], dtype='object')"
            ]
          },
          "metadata": {
            "tags": []
          },
          "execution_count": 19
        }
      ]
    },
    {
      "cell_type": "code",
      "metadata": {
        "colab_type": "code",
        "id": "6S5WHtRnQosJ",
        "outputId": "993016a5-feb0-46f4-a7cb-538ff3aa7023",
        "colab": {
          "base_uri": "https://localhost:8080/",
          "height": 204
        }
      },
      "source": [
        "dataset.head()  "
      ],
      "execution_count": 20,
      "outputs": [
        {
          "output_type": "execute_result",
          "data": {
            "text/html": [
              "<div>\n",
              "<style scoped>\n",
              "    .dataframe tbody tr th:only-of-type {\n",
              "        vertical-align: middle;\n",
              "    }\n",
              "\n",
              "    .dataframe tbody tr th {\n",
              "        vertical-align: top;\n",
              "    }\n",
              "\n",
              "    .dataframe thead th {\n",
              "        text-align: right;\n",
              "    }\n",
              "</style>\n",
              "<table border=\"1\" class=\"dataframe\">\n",
              "  <thead>\n",
              "    <tr style=\"text-align: right;\">\n",
              "      <th></th>\n",
              "      <th>Variance</th>\n",
              "      <th>Skewness</th>\n",
              "      <th>Curtosis</th>\n",
              "      <th>Entropy</th>\n",
              "      <th>Class</th>\n",
              "    </tr>\n",
              "  </thead>\n",
              "  <tbody>\n",
              "    <tr>\n",
              "      <th>0</th>\n",
              "      <td>3.62160</td>\n",
              "      <td>8.6661</td>\n",
              "      <td>-2.8073</td>\n",
              "      <td>-0.44699</td>\n",
              "      <td>0</td>\n",
              "    </tr>\n",
              "    <tr>\n",
              "      <th>1</th>\n",
              "      <td>4.54590</td>\n",
              "      <td>8.1674</td>\n",
              "      <td>-2.4586</td>\n",
              "      <td>-1.46210</td>\n",
              "      <td>0</td>\n",
              "    </tr>\n",
              "    <tr>\n",
              "      <th>2</th>\n",
              "      <td>3.86600</td>\n",
              "      <td>-2.6383</td>\n",
              "      <td>1.9242</td>\n",
              "      <td>0.10645</td>\n",
              "      <td>0</td>\n",
              "    </tr>\n",
              "    <tr>\n",
              "      <th>3</th>\n",
              "      <td>3.45660</td>\n",
              "      <td>9.5228</td>\n",
              "      <td>-4.0112</td>\n",
              "      <td>-3.59440</td>\n",
              "      <td>0</td>\n",
              "    </tr>\n",
              "    <tr>\n",
              "      <th>4</th>\n",
              "      <td>0.32924</td>\n",
              "      <td>-4.4552</td>\n",
              "      <td>4.5718</td>\n",
              "      <td>-0.98880</td>\n",
              "      <td>0</td>\n",
              "    </tr>\n",
              "  </tbody>\n",
              "</table>\n",
              "</div>"
            ],
            "text/plain": [
              "   Variance  Skewness  Curtosis  Entropy  Class\n",
              "0   3.62160    8.6661   -2.8073 -0.44699      0\n",
              "1   4.54590    8.1674   -2.4586 -1.46210      0\n",
              "2   3.86600   -2.6383    1.9242  0.10645      0\n",
              "3   3.45660    9.5228   -4.0112 -3.59440      0\n",
              "4   0.32924   -4.4552    4.5718 -0.98880      0"
            ]
          },
          "metadata": {
            "tags": []
          },
          "execution_count": 20
        }
      ]
    },
    {
      "cell_type": "markdown",
      "metadata": {
        "colab_type": "text",
        "id": "NTob9ldXZST2"
      },
      "source": [
        "## Prepare train data and test set"
      ]
    },
    {
      "cell_type": "markdown",
      "metadata": {
        "colab_type": "text",
        "id": "_SHtTv-AQosM"
      },
      "source": [
        "The label is describe in **Class** column. So that we devide the dataset into attributes and labels"
      ]
    },
    {
      "cell_type": "code",
      "metadata": {
        "colab_type": "code",
        "id": "IWlX_Ip1QosN",
        "colab": {}
      },
      "source": [
        "X = dataset.drop('Class', axis=1)  \n",
        "y = dataset['Class']  "
      ],
      "execution_count": 0,
      "outputs": []
    },
    {
      "cell_type": "markdown",
      "metadata": {
        "colab_type": "text",
        "id": "gg1L0AW-2ScC"
      },
      "source": [
        "Here the X variable contains all the columns from the dataset, except the **Class** column, which is the label.\n",
        "\n",
        "The y variable contains the values from the **Class** column. \n",
        "\n",
        "The X variable is our attribute set and y variable contains corresponding labels."
      ]
    },
    {
      "cell_type": "markdown",
      "metadata": {
        "colab_type": "text",
        "id": "7mAg-sUBQosS"
      },
      "source": [
        "### Dividing our data into training and test sets. "
      ]
    },
    {
      "cell_type": "markdown",
      "metadata": {
        "colab_type": "text",
        "id": "0Fp9RNwf2oon"
      },
      "source": [
        "So, we split the test into 2 sets: training set and testing set. We use to split up 20% of the data in to the test set and 80% for training."
      ]
    },
    {
      "cell_type": "code",
      "metadata": {
        "colab_type": "code",
        "id": "8fXzzhfHQosT",
        "outputId": "7a7d0941-75d2-488a-d0df-ddb98cca34a0",
        "colab": {
          "base_uri": "https://localhost:8080/",
          "height": 51
        }
      },
      "source": [
        "from sklearn.model_selection import train_test_split  \n",
        "X_train, X_test, y_train, y_test = train_test_split(X, y, test_size=0.20)\n",
        "print(X_train.shape, y_train.size)\n",
        "print(X_test.shape, y_test.shape)"
      ],
      "execution_count": 22,
      "outputs": [
        {
          "output_type": "stream",
          "text": [
            "(1097, 4) 1097\n",
            "(275, 4) (275,)\n"
          ],
          "name": "stdout"
        }
      ]
    },
    {
      "cell_type": "markdown",
      "metadata": {
        "colab_type": "text",
        "id": "RvkIhGKzQosZ"
      },
      "source": [
        "## Training with Decision Tree"
      ]
    },
    {
      "cell_type": "markdown",
      "metadata": {
        "colab_type": "text",
        "id": "Whzch7nq5Fdc"
      },
      "source": [
        "Now, let's build a **Decision Tree** model"
      ]
    },
    {
      "cell_type": "markdown",
      "metadata": {
        "id": "HAlAYVJGVekz",
        "colab_type": "text"
      },
      "source": [
        "### a) criterion='gini'"
      ]
    },
    {
      "cell_type": "code",
      "metadata": {
        "colab_type": "code",
        "id": "A5VjKMNFQosZ",
        "outputId": "7602f0e3-f3a3-47e4-dddf-db4f36a30101",
        "colab": {
          "base_uri": "https://localhost:8080/",
          "height": 119
        }
      },
      "source": [
        "from sklearn.tree import DecisionTreeClassifier  \n",
        "dt = DecisionTreeClassifier(criterion='gini')  \n",
        "dt.fit(X_train, y_train)  "
      ],
      "execution_count": 23,
      "outputs": [
        {
          "output_type": "execute_result",
          "data": {
            "text/plain": [
              "DecisionTreeClassifier(ccp_alpha=0.0, class_weight=None, criterion='gini',\n",
              "                       max_depth=None, max_features=None, max_leaf_nodes=None,\n",
              "                       min_impurity_decrease=0.0, min_impurity_split=None,\n",
              "                       min_samples_leaf=1, min_samples_split=2,\n",
              "                       min_weight_fraction_leaf=0.0, presort='deprecated',\n",
              "                       random_state=None, splitter='best')"
            ]
          },
          "metadata": {
            "tags": []
          },
          "execution_count": 23
        }
      ]
    },
    {
      "cell_type": "code",
      "metadata": {
        "colab_type": "code",
        "id": "577pssBYQose",
        "outputId": "b22314d9-1db9-40f3-c7a5-cb952a9dde02",
        "colab": {
          "base_uri": "https://localhost:8080/",
          "height": 238
        }
      },
      "source": [
        "y_pred_dt = dt.predict(X_test)  \n",
        "y_pred_dt"
      ],
      "execution_count": 24,
      "outputs": [
        {
          "output_type": "execute_result",
          "data": {
            "text/plain": [
              "array([0, 0, 1, 1, 0, 0, 0, 0, 1, 0, 0, 1, 0, 0, 0, 1, 0, 1, 1, 1, 0, 1,\n",
              "       0, 0, 1, 0, 1, 0, 0, 0, 0, 1, 0, 0, 0, 1, 1, 0, 0, 1, 1, 0, 0, 1,\n",
              "       1, 0, 1, 1, 1, 1, 0, 0, 1, 1, 1, 1, 0, 0, 0, 1, 1, 1, 1, 0, 0, 1,\n",
              "       0, 0, 1, 1, 0, 1, 0, 0, 1, 0, 0, 0, 0, 0, 0, 0, 0, 0, 1, 0, 1, 0,\n",
              "       1, 0, 0, 0, 0, 1, 0, 1, 0, 1, 0, 0, 1, 0, 1, 1, 0, 1, 1, 1, 1, 0,\n",
              "       1, 1, 1, 0, 0, 0, 1, 1, 1, 1, 0, 0, 0, 0, 1, 1, 0, 1, 0, 0, 1, 1,\n",
              "       0, 0, 1, 0, 1, 1, 0, 1, 1, 1, 0, 0, 0, 0, 1, 0, 0, 0, 0, 0, 0, 0,\n",
              "       0, 0, 0, 0, 0, 0, 1, 0, 0, 0, 0, 0, 0, 1, 1, 0, 0, 0, 0, 0, 0, 0,\n",
              "       1, 0, 1, 0, 1, 0, 1, 1, 1, 0, 0, 1, 1, 1, 0, 1, 0, 1, 1, 1, 0, 1,\n",
              "       0, 1, 1, 1, 1, 0, 1, 0, 0, 1, 0, 1, 0, 0, 1, 0, 0, 0, 1, 1, 0, 1,\n",
              "       1, 1, 1, 1, 1, 0, 1, 0, 0, 1, 0, 1, 0, 0, 1, 1, 0, 1, 1, 1, 0, 0,\n",
              "       1, 1, 0, 0, 0, 0, 0, 0, 1, 0, 1, 1, 1, 0, 1, 1, 1, 1, 0, 0, 0, 1,\n",
              "       0, 1, 0, 1, 0, 0, 0, 1, 1, 0, 1])"
            ]
          },
          "metadata": {
            "tags": []
          },
          "execution_count": 24
        }
      ]
    },
    {
      "cell_type": "markdown",
      "metadata": {
        "colab_type": "text",
        "id": "UusvjyEMQosl"
      },
      "source": [
        "##### Evaluating the Algorithm\n",
        "\n"
      ]
    },
    {
      "cell_type": "code",
      "metadata": {
        "colab_type": "code",
        "id": "ZrVWAiUDQosm",
        "outputId": "85bcca87-8072-4d9e-fab1-7ac5e92bbdb3",
        "colab": {
          "base_uri": "https://localhost:8080/",
          "height": 34
        }
      },
      "source": [
        "dt_score = dt.score(X_test, y_test)\n",
        "print(f\"Decision Tree classifier accuracy score is {dt_score}\")"
      ],
      "execution_count": 25,
      "outputs": [
        {
          "output_type": "stream",
          "text": [
            "Decision Tree classifier accuracy score is 0.9818181818181818\n"
          ],
          "name": "stdout"
        }
      ]
    },
    {
      "cell_type": "markdown",
      "metadata": {
        "id": "wiLmmUsfVek7",
        "colab_type": "text"
      },
      "source": [
        "### b) criterion='entropy'"
      ]
    },
    {
      "cell_type": "code",
      "metadata": {
        "id": "QmwJjllSVek8",
        "colab_type": "code",
        "colab": {
          "base_uri": "https://localhost:8080/",
          "height": 119
        },
        "outputId": "4cfe9b9e-00c7-4a66-dbe3-c0d7483d6c84"
      },
      "source": [
        "from sklearn.tree import DecisionTreeClassifier  \n",
        "dt2 = DecisionTreeClassifier(criterion='entropy')  \n",
        "dt2.fit(X_train, y_train)  "
      ],
      "execution_count": 26,
      "outputs": [
        {
          "output_type": "execute_result",
          "data": {
            "text/plain": [
              "DecisionTreeClassifier(ccp_alpha=0.0, class_weight=None, criterion='entropy',\n",
              "                       max_depth=None, max_features=None, max_leaf_nodes=None,\n",
              "                       min_impurity_decrease=0.0, min_impurity_split=None,\n",
              "                       min_samples_leaf=1, min_samples_split=2,\n",
              "                       min_weight_fraction_leaf=0.0, presort='deprecated',\n",
              "                       random_state=None, splitter='best')"
            ]
          },
          "metadata": {
            "tags": []
          },
          "execution_count": 26
        }
      ]
    },
    {
      "cell_type": "code",
      "metadata": {
        "scrolled": false,
        "id": "hGZFYOT8Vek-",
        "colab_type": "code",
        "colab": {
          "base_uri": "https://localhost:8080/",
          "height": 238
        },
        "outputId": "c1470912-c13b-4969-ad6d-d664f1380ff3"
      },
      "source": [
        "y_pred_dt = dt2.predict(X_test)  \n",
        "y_pred_dt"
      ],
      "execution_count": 27,
      "outputs": [
        {
          "output_type": "execute_result",
          "data": {
            "text/plain": [
              "array([0, 0, 1, 1, 0, 0, 0, 0, 1, 0, 0, 1, 0, 0, 0, 1, 0, 1, 1, 1, 0, 1,\n",
              "       0, 0, 1, 0, 1, 0, 0, 0, 0, 1, 0, 0, 0, 1, 1, 0, 0, 1, 1, 0, 0, 1,\n",
              "       1, 0, 1, 1, 1, 1, 0, 0, 1, 1, 1, 1, 0, 0, 0, 1, 1, 0, 1, 0, 0, 1,\n",
              "       0, 0, 1, 1, 0, 1, 0, 0, 1, 0, 0, 0, 0, 0, 0, 0, 0, 0, 1, 0, 1, 0,\n",
              "       1, 0, 0, 0, 0, 1, 0, 1, 0, 1, 0, 0, 1, 0, 1, 1, 0, 1, 1, 1, 1, 0,\n",
              "       1, 1, 1, 0, 0, 0, 1, 1, 1, 1, 0, 0, 0, 0, 1, 1, 0, 1, 0, 0, 1, 1,\n",
              "       0, 0, 1, 0, 1, 1, 0, 1, 1, 1, 0, 0, 0, 0, 1, 0, 0, 0, 0, 0, 0, 0,\n",
              "       0, 0, 0, 0, 0, 0, 1, 0, 0, 0, 0, 0, 0, 1, 1, 0, 0, 0, 0, 0, 0, 0,\n",
              "       1, 0, 1, 0, 1, 0, 1, 1, 1, 0, 0, 1, 1, 1, 0, 1, 0, 1, 1, 1, 0, 1,\n",
              "       0, 1, 1, 1, 1, 0, 1, 0, 0, 1, 0, 1, 0, 0, 1, 0, 0, 0, 1, 1, 0, 1,\n",
              "       1, 1, 1, 0, 1, 0, 1, 0, 0, 1, 0, 1, 0, 0, 1, 1, 0, 1, 1, 1, 0, 0,\n",
              "       1, 1, 0, 0, 0, 0, 0, 0, 1, 0, 1, 1, 1, 0, 1, 1, 1, 1, 0, 0, 0, 1,\n",
              "       0, 1, 0, 1, 0, 0, 0, 1, 1, 0, 1])"
            ]
          },
          "metadata": {
            "tags": []
          },
          "execution_count": 27
        }
      ]
    },
    {
      "cell_type": "markdown",
      "metadata": {
        "colab_type": "text",
        "id": "-IGlLogdVelA"
      },
      "source": [
        "##### Evaluating the Algorithm\n",
        "\n"
      ]
    },
    {
      "cell_type": "code",
      "metadata": {
        "colab_type": "code",
        "outputId": "e9144367-0e05-4227-c74e-f2f488a5fd51",
        "id": "ibUQ0cRyVelA",
        "colab": {
          "base_uri": "https://localhost:8080/",
          "height": 34
        }
      },
      "source": [
        "dt_score = dt.score(X_test, y_test)\n",
        "print(f\"Decision Tree classifier accuracy score is {dt_score}\")"
      ],
      "execution_count": 28,
      "outputs": [
        {
          "output_type": "stream",
          "text": [
            "Decision Tree classifier accuracy score is 0.9818181818181818\n"
          ],
          "name": "stdout"
        }
      ]
    },
    {
      "cell_type": "markdown",
      "metadata": {
        "colab_type": "text",
        "id": "pSKS600B8a7r"
      },
      "source": [
        "## Extra section"
      ]
    },
    {
      "cell_type": "markdown",
      "metadata": {
        "colab_type": "text",
        "id": "VOR4z1m7Qoss"
      },
      "source": [
        "### Visualize decision tree"
      ]
    },
    {
      "cell_type": "markdown",
      "metadata": {
        "colab_type": "text",
        "id": "flCqCeIl8xm9"
      },
      "source": [
        "We can visualize the Decision Tree model using the [Graphviz](https://www.graphviz.org/) tool.\n",
        "\n",
        "Graphviz is an easy tool for drawing graph. For example: the code\n",
        "\n",
        "```\n",
        "digraph G {Hello->World}\n",
        "```\n",
        "\n",
        "will generate the following graph\n",
        "\n",
        "![digraph](https://graphviz.gitlab.io/_pages/Gallery/directed/hello.png)\n",
        "\n",
        "* More example https://www.graphviz.org/gallery/\n",
        "* You can play around at http://www.webgraphviz.com/ or https://dreampuf.github.io/GraphvizOnline/"
      ]
    },
    {
      "cell_type": "markdown",
      "metadata": {
        "colab_type": "text",
        "id": "mIG3R9Lk_5NS"
      },
      "source": [
        "So let's generate the graph."
      ]
    },
    {
      "cell_type": "code",
      "metadata": {
        "colab_type": "code",
        "id": "YIZ49PfhQosu",
        "outputId": "eb356330-30e9-43b6-acdb-2505daa9a18e",
        "colab": {
          "base_uri": "https://localhost:8080/",
          "height": 1000
        }
      },
      "source": [
        "from sklearn.tree import export_graphviz\n",
        "dot_data = export_graphviz(dt, out_file=None)\n",
        "print(dot_data)"
      ],
      "execution_count": 29,
      "outputs": [
        {
          "output_type": "stream",
          "text": [
            "digraph Tree {\n",
            "node [shape=box] ;\n",
            "0 [label=\"X[0] <= 0.32\\ngini = 0.494\\nsamples = 1097\\nvalue = [608, 489]\"] ;\n",
            "1 [label=\"X[1] <= 6.704\\ngini = 0.321\\nsamples = 532\\nvalue = [107, 425]\"] ;\n",
            "0 -> 1 [labeldistance=2.5, labelangle=45, headlabel=\"True\"] ;\n",
            "2 [label=\"X[1] <= 5.519\\ngini = 0.117\\nsamples = 432\\nvalue = [27, 405]\"] ;\n",
            "1 -> 2 ;\n",
            "3 [label=\"X[2] <= 6.854\\ngini = 0.096\\nsamples = 417\\nvalue = [21, 396]\"] ;\n",
            "2 -> 3 ;\n",
            "4 [label=\"X[2] <= 6.219\\ngini = 0.013\\nsamples = 305\\nvalue = [2, 303]\"] ;\n",
            "3 -> 4 ;\n",
            "5 [label=\"X[1] <= 4.094\\ngini = 0.007\\nsamples = 293\\nvalue = [1, 292]\"] ;\n",
            "4 -> 5 ;\n",
            "6 [label=\"gini = 0.0\\nsamples = 281\\nvalue = [0, 281]\"] ;\n",
            "5 -> 6 ;\n",
            "7 [label=\"X[3] <= -2.168\\ngini = 0.153\\nsamples = 12\\nvalue = [1, 11]\"] ;\n",
            "5 -> 7 ;\n",
            "8 [label=\"gini = 0.0\\nsamples = 11\\nvalue = [0, 11]\"] ;\n",
            "7 -> 8 ;\n",
            "9 [label=\"gini = 0.0\\nsamples = 1\\nvalue = [1, 0]\"] ;\n",
            "7 -> 9 ;\n",
            "10 [label=\"X[2] <= 6.337\\ngini = 0.153\\nsamples = 12\\nvalue = [1, 11]\"] ;\n",
            "4 -> 10 ;\n",
            "11 [label=\"gini = 0.0\\nsamples = 1\\nvalue = [1, 0]\"] ;\n",
            "10 -> 11 ;\n",
            "12 [label=\"gini = 0.0\\nsamples = 11\\nvalue = [0, 11]\"] ;\n",
            "10 -> 12 ;\n",
            "13 [label=\"X[1] <= -4.876\\ngini = 0.282\\nsamples = 112\\nvalue = [19, 93]\"] ;\n",
            "3 -> 13 ;\n",
            "14 [label=\"X[0] <= -0.779\\ngini = 0.021\\nsamples = 94\\nvalue = [1, 93]\"] ;\n",
            "13 -> 14 ;\n",
            "15 [label=\"gini = 0.0\\nsamples = 93\\nvalue = [0, 93]\"] ;\n",
            "14 -> 15 ;\n",
            "16 [label=\"gini = 0.0\\nsamples = 1\\nvalue = [1, 0]\"] ;\n",
            "14 -> 16 ;\n",
            "17 [label=\"gini = 0.0\\nsamples = 18\\nvalue = [18, 0]\"] ;\n",
            "13 -> 17 ;\n",
            "18 [label=\"X[0] <= -2.312\\ngini = 0.48\\nsamples = 15\\nvalue = [6, 9]\"] ;\n",
            "2 -> 18 ;\n",
            "19 [label=\"gini = 0.0\\nsamples = 9\\nvalue = [0, 9]\"] ;\n",
            "18 -> 19 ;\n",
            "20 [label=\"gini = 0.0\\nsamples = 6\\nvalue = [6, 0]\"] ;\n",
            "18 -> 20 ;\n",
            "21 [label=\"X[0] <= -3.445\\ngini = 0.32\\nsamples = 100\\nvalue = [80, 20]\"] ;\n",
            "1 -> 21 ;\n",
            "22 [label=\"X[2] <= 1.878\\ngini = 0.091\\nsamples = 21\\nvalue = [1, 20]\"] ;\n",
            "21 -> 22 ;\n",
            "23 [label=\"gini = 0.0\\nsamples = 20\\nvalue = [0, 20]\"] ;\n",
            "22 -> 23 ;\n",
            "24 [label=\"gini = 0.0\\nsamples = 1\\nvalue = [1, 0]\"] ;\n",
            "22 -> 24 ;\n",
            "25 [label=\"gini = 0.0\\nsamples = 79\\nvalue = [79, 0]\"] ;\n",
            "21 -> 25 ;\n",
            "26 [label=\"X[2] <= -4.443\\ngini = 0.201\\nsamples = 565\\nvalue = [501, 64]\"] ;\n",
            "0 -> 26 [labeldistance=2.5, labelangle=-45, headlabel=\"False\"] ;\n",
            "27 [label=\"X[0] <= 3.304\\ngini = 0.358\\nsamples = 30\\nvalue = [7, 23]\"] ;\n",
            "26 -> 27 ;\n",
            "28 [label=\"gini = 0.0\\nsamples = 23\\nvalue = [0, 23]\"] ;\n",
            "27 -> 28 ;\n",
            "29 [label=\"gini = 0.0\\nsamples = 7\\nvalue = [7, 0]\"] ;\n",
            "27 -> 29 ;\n",
            "30 [label=\"X[0] <= 1.592\\ngini = 0.142\\nsamples = 535\\nvalue = [494, 41]\"] ;\n",
            "26 -> 30 ;\n",
            "31 [label=\"X[2] <= -1.734\\ngini = 0.375\\nsamples = 152\\nvalue = [114, 38]\"] ;\n",
            "30 -> 31 ;\n",
            "32 [label=\"X[1] <= 5.289\\ngini = 0.368\\nsamples = 37\\nvalue = [9, 28]\"] ;\n",
            "31 -> 32 ;\n",
            "33 [label=\"gini = 0.0\\nsamples = 28\\nvalue = [0, 28]\"] ;\n",
            "32 -> 33 ;\n",
            "34 [label=\"gini = 0.0\\nsamples = 9\\nvalue = [9, 0]\"] ;\n",
            "32 -> 34 ;\n",
            "35 [label=\"X[3] <= 0.23\\ngini = 0.159\\nsamples = 115\\nvalue = [105, 10]\"] ;\n",
            "31 -> 35 ;\n",
            "36 [label=\"X[3] <= 0.106\\ngini = 0.021\\nsamples = 96\\nvalue = [95, 1]\"] ;\n",
            "35 -> 36 ;\n",
            "37 [label=\"gini = 0.0\\nsamples = 91\\nvalue = [91, 0]\"] ;\n",
            "36 -> 37 ;\n",
            "38 [label=\"X[3] <= 0.165\\ngini = 0.32\\nsamples = 5\\nvalue = [4, 1]\"] ;\n",
            "36 -> 38 ;\n",
            "39 [label=\"gini = 0.0\\nsamples = 1\\nvalue = [0, 1]\"] ;\n",
            "38 -> 39 ;\n",
            "40 [label=\"gini = 0.0\\nsamples = 4\\nvalue = [4, 0]\"] ;\n",
            "38 -> 40 ;\n",
            "41 [label=\"X[2] <= 1.952\\ngini = 0.499\\nsamples = 19\\nvalue = [10, 9]\"] ;\n",
            "35 -> 41 ;\n",
            "42 [label=\"gini = 0.0\\nsamples = 9\\nvalue = [0, 9]\"] ;\n",
            "41 -> 42 ;\n",
            "43 [label=\"gini = 0.0\\nsamples = 10\\nvalue = [10, 0]\"] ;\n",
            "41 -> 43 ;\n",
            "44 [label=\"X[0] <= 2.039\\ngini = 0.016\\nsamples = 383\\nvalue = [380, 3]\"] ;\n",
            "30 -> 44 ;\n",
            "45 [label=\"X[2] <= -2.648\\ngini = 0.124\\nsamples = 45\\nvalue = [42, 3]\"] ;\n",
            "44 -> 45 ;\n",
            "46 [label=\"X[1] <= 6.473\\ngini = 0.375\\nsamples = 4\\nvalue = [1, 3]\"] ;\n",
            "45 -> 46 ;\n",
            "47 [label=\"gini = 0.0\\nsamples = 3\\nvalue = [0, 3]\"] ;\n",
            "46 -> 47 ;\n",
            "48 [label=\"gini = 0.0\\nsamples = 1\\nvalue = [1, 0]\"] ;\n",
            "46 -> 48 ;\n",
            "49 [label=\"gini = 0.0\\nsamples = 41\\nvalue = [41, 0]\"] ;\n",
            "45 -> 49 ;\n",
            "50 [label=\"gini = 0.0\\nsamples = 338\\nvalue = [338, 0]\"] ;\n",
            "44 -> 50 ;\n",
            "}\n"
          ],
          "name": "stdout"
        }
      ]
    },
    {
      "cell_type": "markdown",
      "metadata": {
        "colab_type": "text",
        "id": "0X6_ggMHFJ0Z"
      },
      "source": [
        "Copy the code above, paste it to online graphviz service like http://viz-js.com/ and see the result."
      ]
    },
    {
      "cell_type": "markdown",
      "metadata": {
        "colab_type": "text",
        "id": "NnUDorsr8wjv"
      },
      "source": [
        "### Jypiter does it all"
      ]
    },
    {
      "cell_type": "markdown",
      "metadata": {
        "colab_type": "text",
        "id": "tZsrkGvwBBta"
      },
      "source": [
        "If we want to display the graph automatically inside Jupiter, we'll need\n",
        "* Install Graphviz binary\n",
        "* Call the Graphviz inside Jupiter and grab the result.\n",
        "\n",
        "**Note**: Google Colab does not let us install Graphviz binary, so that we cant make with work with Google Colab.\n"
      ]
    },
    {
      "cell_type": "code",
      "metadata": {
        "colab_type": "code",
        "id": "ASScryziBlf8",
        "outputId": "faf8544e-0f09-4edb-c141-506a93c15d2a",
        "colab": {
          "base_uri": "https://localhost:8080/",
          "height": 34
        }
      },
      "source": [
        "\"\"\"\n",
        "Install lib that call Graphviz binary\n",
        "\"\"\"\n",
        "\n",
        "### pip3 install graphviz"
      ],
      "execution_count": 30,
      "outputs": [
        {
          "output_type": "execute_result",
          "data": {
            "text/plain": [
              "'\\nInstall lib that call Graphviz binary\\n'"
            ]
          },
          "metadata": {
            "tags": []
          },
          "execution_count": 30
        }
      ]
    },
    {
      "cell_type": "code",
      "metadata": {
        "colab_type": "code",
        "id": "1eRgxNHtQosy",
        "colab": {
          "base_uri": "https://localhost:8080/",
          "height": 1000
        },
        "outputId": "225057ac-650f-4384-d577-69ab673a4d06"
      },
      "source": [
        "import graphviz \n",
        "graph = graphviz.Source(dot_data)\n",
        "graph"
      ],
      "execution_count": 31,
      "outputs": [
        {
          "output_type": "execute_result",
          "data": {
            "text/plain": [
              "<graphviz.files.Source at 0x7f9ac242cef0>"
            ],
            "image/svg+xml": "<?xml version=\"1.0\" encoding=\"UTF-8\" standalone=\"no\"?>\n<!DOCTYPE svg PUBLIC \"-//W3C//DTD SVG 1.1//EN\"\n \"http://www.w3.org/Graphics/SVG/1.1/DTD/svg11.dtd\">\n<!-- Generated by graphviz version 2.40.1 (20161225.0304)\n -->\n<!-- Title: Tree Pages: 1 -->\n<svg width=\"1841pt\" height=\"789pt\"\n viewBox=\"0.00 0.00 1841.00 789.00\" xmlns=\"http://www.w3.org/2000/svg\" xmlns:xlink=\"http://www.w3.org/1999/xlink\">\n<g id=\"graph0\" class=\"graph\" transform=\"scale(1 1) rotate(0) translate(4 785)\">\n<title>Tree</title>\n<polygon fill=\"#ffffff\" stroke=\"transparent\" points=\"-4,4 -4,-785 1837,-785 1837,4 -4,4\"/>\n<!-- 0 -->\n<g id=\"node1\" class=\"node\">\n<title>0</title>\n<polygon fill=\"none\" stroke=\"#000000\" points=\"1092.5,-781 967.5,-781 967.5,-713 1092.5,-713 1092.5,-781\"/>\n<text text-anchor=\"middle\" x=\"1030\" y=\"-765.8\" font-family=\"Times,serif\" font-size=\"14.00\" fill=\"#000000\">X[0] &lt;= 0.32</text>\n<text text-anchor=\"middle\" x=\"1030\" y=\"-750.8\" font-family=\"Times,serif\" font-size=\"14.00\" fill=\"#000000\">gini = 0.494</text>\n<text text-anchor=\"middle\" x=\"1030\" y=\"-735.8\" font-family=\"Times,serif\" font-size=\"14.00\" fill=\"#000000\">samples = 1097</text>\n<text text-anchor=\"middle\" x=\"1030\" y=\"-720.8\" font-family=\"Times,serif\" font-size=\"14.00\" fill=\"#000000\">value = [608, 489]</text>\n</g>\n<!-- 1 -->\n<g id=\"node2\" class=\"node\">\n<title>1</title>\n<polygon fill=\"none\" stroke=\"#000000\" points=\"977.5,-677 852.5,-677 852.5,-609 977.5,-609 977.5,-677\"/>\n<text text-anchor=\"middle\" x=\"915\" y=\"-661.8\" font-family=\"Times,serif\" font-size=\"14.00\" fill=\"#000000\">X[1] &lt;= 6.704</text>\n<text text-anchor=\"middle\" x=\"915\" y=\"-646.8\" font-family=\"Times,serif\" font-size=\"14.00\" fill=\"#000000\">gini = 0.321</text>\n<text text-anchor=\"middle\" x=\"915\" y=\"-631.8\" font-family=\"Times,serif\" font-size=\"14.00\" fill=\"#000000\">samples = 532</text>\n<text text-anchor=\"middle\" x=\"915\" y=\"-616.8\" font-family=\"Times,serif\" font-size=\"14.00\" fill=\"#000000\">value = [107, 425]</text>\n</g>\n<!-- 0&#45;&gt;1 -->\n<g id=\"edge1\" class=\"edge\">\n<title>0&#45;&gt;1</title>\n<path fill=\"none\" stroke=\"#000000\" d=\"M992.3447,-712.9465C982.1187,-703.6986 970.9382,-693.5876 960.3359,-683.9994\"/>\n<polygon fill=\"#000000\" stroke=\"#000000\" points=\"962.5044,-681.2416 952.7399,-677.13 957.8092,-686.4334 962.5044,-681.2416\"/>\n<text text-anchor=\"middle\" x=\"953.994\" y=\"-698.3985\" font-family=\"Times,serif\" font-size=\"14.00\" fill=\"#000000\">True</text>\n</g>\n<!-- 26 -->\n<g id=\"node27\" class=\"node\">\n<title>26</title>\n<polygon fill=\"none\" stroke=\"#000000\" points=\"1241.5,-677 1124.5,-677 1124.5,-609 1241.5,-609 1241.5,-677\"/>\n<text text-anchor=\"middle\" x=\"1183\" y=\"-661.8\" font-family=\"Times,serif\" font-size=\"14.00\" fill=\"#000000\">X[2] &lt;= &#45;4.443</text>\n<text text-anchor=\"middle\" x=\"1183\" y=\"-646.8\" font-family=\"Times,serif\" font-size=\"14.00\" fill=\"#000000\">gini = 0.201</text>\n<text text-anchor=\"middle\" x=\"1183\" y=\"-631.8\" font-family=\"Times,serif\" font-size=\"14.00\" fill=\"#000000\">samples = 565</text>\n<text text-anchor=\"middle\" x=\"1183\" y=\"-616.8\" font-family=\"Times,serif\" font-size=\"14.00\" fill=\"#000000\">value = [501, 64]</text>\n</g>\n<!-- 0&#45;&gt;26 -->\n<g id=\"edge26\" class=\"edge\">\n<title>0&#45;&gt;26</title>\n<path fill=\"none\" stroke=\"#000000\" d=\"M1080.0979,-712.9465C1094.2313,-703.3395 1109.7352,-692.8009 1124.3233,-682.8848\"/>\n<polygon fill=\"#000000\" stroke=\"#000000\" points=\"1126.4868,-685.6463 1132.7895,-677.13 1122.5517,-679.8571 1126.4868,-685.6463\"/>\n<text text-anchor=\"middle\" x=\"1128.1073\" y=\"-697.9876\" font-family=\"Times,serif\" font-size=\"14.00\" fill=\"#000000\">False</text>\n</g>\n<!-- 2 -->\n<g id=\"node3\" class=\"node\">\n<title>2</title>\n<polygon fill=\"none\" stroke=\"#000000\" points=\"796.5,-573 679.5,-573 679.5,-505 796.5,-505 796.5,-573\"/>\n<text text-anchor=\"middle\" x=\"738\" y=\"-557.8\" font-family=\"Times,serif\" font-size=\"14.00\" fill=\"#000000\">X[1] &lt;= 5.519</text>\n<text text-anchor=\"middle\" x=\"738\" y=\"-542.8\" font-family=\"Times,serif\" font-size=\"14.00\" fill=\"#000000\">gini = 0.117</text>\n<text text-anchor=\"middle\" x=\"738\" y=\"-527.8\" font-family=\"Times,serif\" font-size=\"14.00\" fill=\"#000000\">samples = 432</text>\n<text text-anchor=\"middle\" x=\"738\" y=\"-512.8\" font-family=\"Times,serif\" font-size=\"14.00\" fill=\"#000000\">value = [27, 405]</text>\n</g>\n<!-- 1&#45;&gt;2 -->\n<g id=\"edge2\" class=\"edge\">\n<title>1&#45;&gt;2</title>\n<path fill=\"none\" stroke=\"#000000\" d=\"M857.0436,-608.9465C840.3875,-599.1599 822.0863,-588.4066 804.9356,-578.3294\"/>\n<polygon fill=\"#000000\" stroke=\"#000000\" points=\"806.4816,-575.1783 796.0866,-573.13 802.9354,-581.2136 806.4816,-575.1783\"/>\n</g>\n<!-- 21 -->\n<g id=\"node22\" class=\"node\">\n<title>21</title>\n<polygon fill=\"none\" stroke=\"#000000\" points=\"970,-573 860,-573 860,-505 970,-505 970,-573\"/>\n<text text-anchor=\"middle\" x=\"915\" y=\"-557.8\" font-family=\"Times,serif\" font-size=\"14.00\" fill=\"#000000\">X[0] &lt;= &#45;3.445</text>\n<text text-anchor=\"middle\" x=\"915\" y=\"-542.8\" font-family=\"Times,serif\" font-size=\"14.00\" fill=\"#000000\">gini = 0.32</text>\n<text text-anchor=\"middle\" x=\"915\" y=\"-527.8\" font-family=\"Times,serif\" font-size=\"14.00\" fill=\"#000000\">samples = 100</text>\n<text text-anchor=\"middle\" x=\"915\" y=\"-512.8\" font-family=\"Times,serif\" font-size=\"14.00\" fill=\"#000000\">value = [80, 20]</text>\n</g>\n<!-- 1&#45;&gt;21 -->\n<g id=\"edge21\" class=\"edge\">\n<title>1&#45;&gt;21</title>\n<path fill=\"none\" stroke=\"#000000\" d=\"M915,-608.9465C915,-600.776 915,-591.9318 915,-583.3697\"/>\n<polygon fill=\"#000000\" stroke=\"#000000\" points=\"918.5001,-583.13 915,-573.13 911.5001,-583.13 918.5001,-583.13\"/>\n</g>\n<!-- 3 -->\n<g id=\"node4\" class=\"node\">\n<title>3</title>\n<polygon fill=\"none\" stroke=\"#000000\" points=\"594.5,-469 477.5,-469 477.5,-401 594.5,-401 594.5,-469\"/>\n<text text-anchor=\"middle\" x=\"536\" y=\"-453.8\" font-family=\"Times,serif\" font-size=\"14.00\" fill=\"#000000\">X[2] &lt;= 6.854</text>\n<text text-anchor=\"middle\" x=\"536\" y=\"-438.8\" font-family=\"Times,serif\" font-size=\"14.00\" fill=\"#000000\">gini = 0.096</text>\n<text text-anchor=\"middle\" x=\"536\" y=\"-423.8\" font-family=\"Times,serif\" font-size=\"14.00\" fill=\"#000000\">samples = 417</text>\n<text text-anchor=\"middle\" x=\"536\" y=\"-408.8\" font-family=\"Times,serif\" font-size=\"14.00\" fill=\"#000000\">value = [21, 396]</text>\n</g>\n<!-- 2&#45;&gt;3 -->\n<g id=\"edge3\" class=\"edge\">\n<title>2&#45;&gt;3</title>\n<path fill=\"none\" stroke=\"#000000\" d=\"M679.3019,-508.7792C655.7516,-496.6543 628.4562,-482.6012 604.0452,-470.0332\"/>\n<polygon fill=\"#000000\" stroke=\"#000000\" points=\"605.3375,-466.7619 594.8445,-465.2962 602.1332,-472.9855 605.3375,-466.7619\"/>\n</g>\n<!-- 18 -->\n<g id=\"node19\" class=\"node\">\n<title>18</title>\n<polygon fill=\"none\" stroke=\"#000000\" points=\"791,-469 685,-469 685,-401 791,-401 791,-469\"/>\n<text text-anchor=\"middle\" x=\"738\" y=\"-453.8\" font-family=\"Times,serif\" font-size=\"14.00\" fill=\"#000000\">X[0] &lt;= &#45;2.312</text>\n<text text-anchor=\"middle\" x=\"738\" y=\"-438.8\" font-family=\"Times,serif\" font-size=\"14.00\" fill=\"#000000\">gini = 0.48</text>\n<text text-anchor=\"middle\" x=\"738\" y=\"-423.8\" font-family=\"Times,serif\" font-size=\"14.00\" fill=\"#000000\">samples = 15</text>\n<text text-anchor=\"middle\" x=\"738\" y=\"-408.8\" font-family=\"Times,serif\" font-size=\"14.00\" fill=\"#000000\">value = [6, 9]</text>\n</g>\n<!-- 2&#45;&gt;18 -->\n<g id=\"edge18\" class=\"edge\">\n<title>2&#45;&gt;18</title>\n<path fill=\"none\" stroke=\"#000000\" d=\"M738,-504.9465C738,-496.776 738,-487.9318 738,-479.3697\"/>\n<polygon fill=\"#000000\" stroke=\"#000000\" points=\"741.5001,-479.13 738,-469.13 734.5001,-479.13 741.5001,-479.13\"/>\n</g>\n<!-- 4 -->\n<g id=\"node5\" class=\"node\">\n<title>4</title>\n<polygon fill=\"none\" stroke=\"#000000\" points=\"411,-365 301,-365 301,-297 411,-297 411,-365\"/>\n<text text-anchor=\"middle\" x=\"356\" y=\"-349.8\" font-family=\"Times,serif\" font-size=\"14.00\" fill=\"#000000\">X[2] &lt;= 6.219</text>\n<text text-anchor=\"middle\" x=\"356\" y=\"-334.8\" font-family=\"Times,serif\" font-size=\"14.00\" fill=\"#000000\">gini = 0.013</text>\n<text text-anchor=\"middle\" x=\"356\" y=\"-319.8\" font-family=\"Times,serif\" font-size=\"14.00\" fill=\"#000000\">samples = 305</text>\n<text text-anchor=\"middle\" x=\"356\" y=\"-304.8\" font-family=\"Times,serif\" font-size=\"14.00\" fill=\"#000000\">value = [2, 303]</text>\n</g>\n<!-- 3&#45;&gt;4 -->\n<g id=\"edge4\" class=\"edge\">\n<title>3&#45;&gt;4</title>\n<path fill=\"none\" stroke=\"#000000\" d=\"M477.0613,-400.9465C458.7392,-390.3604 438.4594,-378.6432 419.8206,-367.8741\"/>\n<polygon fill=\"#000000\" stroke=\"#000000\" points=\"421.5124,-364.8094 411.1027,-362.8371 418.0104,-370.8705 421.5124,-364.8094\"/>\n</g>\n<!-- 13 -->\n<g id=\"node14\" class=\"node\">\n<title>13</title>\n<polygon fill=\"none\" stroke=\"#000000\" points=\"591,-365 481,-365 481,-297 591,-297 591,-365\"/>\n<text text-anchor=\"middle\" x=\"536\" y=\"-349.8\" font-family=\"Times,serif\" font-size=\"14.00\" fill=\"#000000\">X[1] &lt;= &#45;4.876</text>\n<text text-anchor=\"middle\" x=\"536\" y=\"-334.8\" font-family=\"Times,serif\" font-size=\"14.00\" fill=\"#000000\">gini = 0.282</text>\n<text text-anchor=\"middle\" x=\"536\" y=\"-319.8\" font-family=\"Times,serif\" font-size=\"14.00\" fill=\"#000000\">samples = 112</text>\n<text text-anchor=\"middle\" x=\"536\" y=\"-304.8\" font-family=\"Times,serif\" font-size=\"14.00\" fill=\"#000000\">value = [19, 93]</text>\n</g>\n<!-- 3&#45;&gt;13 -->\n<g id=\"edge13\" class=\"edge\">\n<title>3&#45;&gt;13</title>\n<path fill=\"none\" stroke=\"#000000\" d=\"M536,-400.9465C536,-392.776 536,-383.9318 536,-375.3697\"/>\n<polygon fill=\"#000000\" stroke=\"#000000\" points=\"539.5001,-375.13 536,-365.13 532.5001,-375.13 539.5001,-375.13\"/>\n</g>\n<!-- 5 -->\n<g id=\"node6\" class=\"node\">\n<title>5</title>\n<polygon fill=\"none\" stroke=\"#000000\" points=\"236,-261 126,-261 126,-193 236,-193 236,-261\"/>\n<text text-anchor=\"middle\" x=\"181\" y=\"-245.8\" font-family=\"Times,serif\" font-size=\"14.00\" fill=\"#000000\">X[1] &lt;= 4.094</text>\n<text text-anchor=\"middle\" x=\"181\" y=\"-230.8\" font-family=\"Times,serif\" font-size=\"14.00\" fill=\"#000000\">gini = 0.007</text>\n<text text-anchor=\"middle\" x=\"181\" y=\"-215.8\" font-family=\"Times,serif\" font-size=\"14.00\" fill=\"#000000\">samples = 293</text>\n<text text-anchor=\"middle\" x=\"181\" y=\"-200.8\" font-family=\"Times,serif\" font-size=\"14.00\" fill=\"#000000\">value = [1, 292]</text>\n</g>\n<!-- 4&#45;&gt;5 -->\n<g id=\"edge5\" class=\"edge\">\n<title>4&#45;&gt;5</title>\n<path fill=\"none\" stroke=\"#000000\" d=\"M300.6289,-298.0938C282.9017,-287.5587 263.1314,-275.8095 244.8502,-264.9453\"/>\n<polygon fill=\"#000000\" stroke=\"#000000\" points=\"246.3955,-261.7922 236.0109,-259.6922 242.8193,-267.8098 246.3955,-261.7922\"/>\n</g>\n<!-- 10 -->\n<g id=\"node11\" class=\"node\">\n<title>10</title>\n<polygon fill=\"none\" stroke=\"#000000\" points=\"406.5,-261 305.5,-261 305.5,-193 406.5,-193 406.5,-261\"/>\n<text text-anchor=\"middle\" x=\"356\" y=\"-245.8\" font-family=\"Times,serif\" font-size=\"14.00\" fill=\"#000000\">X[2] &lt;= 6.337</text>\n<text text-anchor=\"middle\" x=\"356\" y=\"-230.8\" font-family=\"Times,serif\" font-size=\"14.00\" fill=\"#000000\">gini = 0.153</text>\n<text text-anchor=\"middle\" x=\"356\" y=\"-215.8\" font-family=\"Times,serif\" font-size=\"14.00\" fill=\"#000000\">samples = 12</text>\n<text text-anchor=\"middle\" x=\"356\" y=\"-200.8\" font-family=\"Times,serif\" font-size=\"14.00\" fill=\"#000000\">value = [1, 11]</text>\n</g>\n<!-- 4&#45;&gt;10 -->\n<g id=\"edge10\" class=\"edge\">\n<title>4&#45;&gt;10</title>\n<path fill=\"none\" stroke=\"#000000\" d=\"M356,-296.9465C356,-288.776 356,-279.9318 356,-271.3697\"/>\n<polygon fill=\"#000000\" stroke=\"#000000\" points=\"359.5001,-271.13 356,-261.13 352.5001,-271.13 359.5001,-271.13\"/>\n</g>\n<!-- 6 -->\n<g id=\"node7\" class=\"node\">\n<title>6</title>\n<polygon fill=\"none\" stroke=\"#000000\" points=\"110,-149.5 0,-149.5 0,-96.5 110,-96.5 110,-149.5\"/>\n<text text-anchor=\"middle\" x=\"55\" y=\"-134.3\" font-family=\"Times,serif\" font-size=\"14.00\" fill=\"#000000\">gini = 0.0</text>\n<text text-anchor=\"middle\" x=\"55\" y=\"-119.3\" font-family=\"Times,serif\" font-size=\"14.00\" fill=\"#000000\">samples = 281</text>\n<text text-anchor=\"middle\" x=\"55\" y=\"-104.3\" font-family=\"Times,serif\" font-size=\"14.00\" fill=\"#000000\">value = [0, 281]</text>\n</g>\n<!-- 5&#45;&gt;6 -->\n<g id=\"edge6\" class=\"edge\">\n<title>5&#45;&gt;6</title>\n<path fill=\"none\" stroke=\"#000000\" d=\"M139.7429,-192.9465C125.3303,-181.0504 109.1873,-167.726 94.8883,-155.9237\"/>\n<polygon fill=\"#000000\" stroke=\"#000000\" points=\"97.0971,-153.2086 87.1569,-149.5422 92.6411,-158.6071 97.0971,-153.2086\"/>\n</g>\n<!-- 7 -->\n<g id=\"node8\" class=\"node\">\n<title>7</title>\n<polygon fill=\"none\" stroke=\"#000000\" points=\"234,-157 128,-157 128,-89 234,-89 234,-157\"/>\n<text text-anchor=\"middle\" x=\"181\" y=\"-141.8\" font-family=\"Times,serif\" font-size=\"14.00\" fill=\"#000000\">X[3] &lt;= &#45;2.168</text>\n<text text-anchor=\"middle\" x=\"181\" y=\"-126.8\" font-family=\"Times,serif\" font-size=\"14.00\" fill=\"#000000\">gini = 0.153</text>\n<text text-anchor=\"middle\" x=\"181\" y=\"-111.8\" font-family=\"Times,serif\" font-size=\"14.00\" fill=\"#000000\">samples = 12</text>\n<text text-anchor=\"middle\" x=\"181\" y=\"-96.8\" font-family=\"Times,serif\" font-size=\"14.00\" fill=\"#000000\">value = [1, 11]</text>\n</g>\n<!-- 5&#45;&gt;7 -->\n<g id=\"edge7\" class=\"edge\">\n<title>5&#45;&gt;7</title>\n<path fill=\"none\" stroke=\"#000000\" d=\"M181,-192.9465C181,-184.776 181,-175.9318 181,-167.3697\"/>\n<polygon fill=\"#000000\" stroke=\"#000000\" points=\"184.5001,-167.13 181,-157.13 177.5001,-167.13 184.5001,-167.13\"/>\n</g>\n<!-- 8 -->\n<g id=\"node9\" class=\"node\">\n<title>8</title>\n<polygon fill=\"none\" stroke=\"#000000\" points=\"173.5,-53 72.5,-53 72.5,0 173.5,0 173.5,-53\"/>\n<text text-anchor=\"middle\" x=\"123\" y=\"-37.8\" font-family=\"Times,serif\" font-size=\"14.00\" fill=\"#000000\">gini = 0.0</text>\n<text text-anchor=\"middle\" x=\"123\" y=\"-22.8\" font-family=\"Times,serif\" font-size=\"14.00\" fill=\"#000000\">samples = 11</text>\n<text text-anchor=\"middle\" x=\"123\" y=\"-7.8\" font-family=\"Times,serif\" font-size=\"14.00\" fill=\"#000000\">value = [0, 11]</text>\n</g>\n<!-- 7&#45;&gt;8 -->\n<g id=\"edge8\" class=\"edge\">\n<title>7&#45;&gt;8</title>\n<path fill=\"none\" stroke=\"#000000\" d=\"M160.5514,-88.9777C155.2678,-80.187 149.5684,-70.7044 144.2452,-61.8477\"/>\n<polygon fill=\"#000000\" stroke=\"#000000\" points=\"147.2282,-60.0165 139.0768,-53.2485 141.2285,-63.6225 147.2282,-60.0165\"/>\n</g>\n<!-- 9 -->\n<g id=\"node10\" class=\"node\">\n<title>9</title>\n<polygon fill=\"none\" stroke=\"#000000\" points=\"286.5,-53 191.5,-53 191.5,0 286.5,0 286.5,-53\"/>\n<text text-anchor=\"middle\" x=\"239\" y=\"-37.8\" font-family=\"Times,serif\" font-size=\"14.00\" fill=\"#000000\">gini = 0.0</text>\n<text text-anchor=\"middle\" x=\"239\" y=\"-22.8\" font-family=\"Times,serif\" font-size=\"14.00\" fill=\"#000000\">samples = 1</text>\n<text text-anchor=\"middle\" x=\"239\" y=\"-7.8\" font-family=\"Times,serif\" font-size=\"14.00\" fill=\"#000000\">value = [1, 0]</text>\n</g>\n<!-- 7&#45;&gt;9 -->\n<g id=\"edge9\" class=\"edge\">\n<title>7&#45;&gt;9</title>\n<path fill=\"none\" stroke=\"#000000\" d=\"M201.4486,-88.9777C206.7322,-80.187 212.4316,-70.7044 217.7548,-61.8477\"/>\n<polygon fill=\"#000000\" stroke=\"#000000\" points=\"220.7715,-63.6225 222.9232,-53.2485 214.7718,-60.0165 220.7715,-63.6225\"/>\n</g>\n<!-- 11 -->\n<g id=\"node12\" class=\"node\">\n<title>11</title>\n<polygon fill=\"none\" stroke=\"#000000\" points=\"347.5,-149.5 252.5,-149.5 252.5,-96.5 347.5,-96.5 347.5,-149.5\"/>\n<text text-anchor=\"middle\" x=\"300\" y=\"-134.3\" font-family=\"Times,serif\" font-size=\"14.00\" fill=\"#000000\">gini = 0.0</text>\n<text text-anchor=\"middle\" x=\"300\" y=\"-119.3\" font-family=\"Times,serif\" font-size=\"14.00\" fill=\"#000000\">samples = 1</text>\n<text text-anchor=\"middle\" x=\"300\" y=\"-104.3\" font-family=\"Times,serif\" font-size=\"14.00\" fill=\"#000000\">value = [1, 0]</text>\n</g>\n<!-- 10&#45;&gt;11 -->\n<g id=\"edge11\" class=\"edge\">\n<title>10&#45;&gt;11</title>\n<path fill=\"none\" stroke=\"#000000\" d=\"M337.6635,-192.9465C331.7324,-181.9316 325.1419,-169.6922 319.1532,-158.5703\"/>\n<polygon fill=\"#000000\" stroke=\"#000000\" points=\"322.1146,-156.6875 314.2919,-149.5422 315.9513,-160.0063 322.1146,-156.6875\"/>\n</g>\n<!-- 12 -->\n<g id=\"node13\" class=\"node\">\n<title>12</title>\n<polygon fill=\"none\" stroke=\"#000000\" points=\"466.5,-149.5 365.5,-149.5 365.5,-96.5 466.5,-96.5 466.5,-149.5\"/>\n<text text-anchor=\"middle\" x=\"416\" y=\"-134.3\" font-family=\"Times,serif\" font-size=\"14.00\" fill=\"#000000\">gini = 0.0</text>\n<text text-anchor=\"middle\" x=\"416\" y=\"-119.3\" font-family=\"Times,serif\" font-size=\"14.00\" fill=\"#000000\">samples = 11</text>\n<text text-anchor=\"middle\" x=\"416\" y=\"-104.3\" font-family=\"Times,serif\" font-size=\"14.00\" fill=\"#000000\">value = [0, 11]</text>\n</g>\n<!-- 10&#45;&gt;12 -->\n<g id=\"edge12\" class=\"edge\">\n<title>10&#45;&gt;12</title>\n<path fill=\"none\" stroke=\"#000000\" d=\"M375.6462,-192.9465C382.0645,-181.8215 389.2035,-169.4473 395.671,-158.237\"/>\n<polygon fill=\"#000000\" stroke=\"#000000\" points=\"398.7216,-159.9531 400.6872,-149.5422 392.6583,-156.455 398.7216,-159.9531\"/>\n</g>\n<!-- 14 -->\n<g id=\"node15\" class=\"node\">\n<title>14</title>\n<polygon fill=\"none\" stroke=\"#000000\" points=\"589,-261 483,-261 483,-193 589,-193 589,-261\"/>\n<text text-anchor=\"middle\" x=\"536\" y=\"-245.8\" font-family=\"Times,serif\" font-size=\"14.00\" fill=\"#000000\">X[0] &lt;= &#45;0.779</text>\n<text text-anchor=\"middle\" x=\"536\" y=\"-230.8\" font-family=\"Times,serif\" font-size=\"14.00\" fill=\"#000000\">gini = 0.021</text>\n<text text-anchor=\"middle\" x=\"536\" y=\"-215.8\" font-family=\"Times,serif\" font-size=\"14.00\" fill=\"#000000\">samples = 94</text>\n<text text-anchor=\"middle\" x=\"536\" y=\"-200.8\" font-family=\"Times,serif\" font-size=\"14.00\" fill=\"#000000\">value = [1, 93]</text>\n</g>\n<!-- 13&#45;&gt;14 -->\n<g id=\"edge14\" class=\"edge\">\n<title>13&#45;&gt;14</title>\n<path fill=\"none\" stroke=\"#000000\" d=\"M536,-296.9465C536,-288.776 536,-279.9318 536,-271.3697\"/>\n<polygon fill=\"#000000\" stroke=\"#000000\" points=\"539.5001,-271.13 536,-261.13 532.5001,-271.13 539.5001,-271.13\"/>\n</g>\n<!-- 17 -->\n<g id=\"node18\" class=\"node\">\n<title>17</title>\n<polygon fill=\"none\" stroke=\"#000000\" points=\"709,-253.5 607,-253.5 607,-200.5 709,-200.5 709,-253.5\"/>\n<text text-anchor=\"middle\" x=\"658\" y=\"-238.3\" font-family=\"Times,serif\" font-size=\"14.00\" fill=\"#000000\">gini = 0.0</text>\n<text text-anchor=\"middle\" x=\"658\" y=\"-223.3\" font-family=\"Times,serif\" font-size=\"14.00\" fill=\"#000000\">samples = 18</text>\n<text text-anchor=\"middle\" x=\"658\" y=\"-208.3\" font-family=\"Times,serif\" font-size=\"14.00\" fill=\"#000000\">value = [18, 0]</text>\n</g>\n<!-- 13&#45;&gt;17 -->\n<g id=\"edge17\" class=\"edge\">\n<title>13&#45;&gt;17</title>\n<path fill=\"none\" stroke=\"#000000\" d=\"M575.9474,-296.9465C589.7732,-285.1606 605.2436,-271.9726 618.9929,-260.2519\"/>\n<polygon fill=\"#000000\" stroke=\"#000000\" points=\"621.5244,-262.6931 626.864,-253.5422 616.9832,-257.366 621.5244,-262.6931\"/>\n</g>\n<!-- 15 -->\n<g id=\"node16\" class=\"node\">\n<title>15</title>\n<polygon fill=\"none\" stroke=\"#000000\" points=\"587,-149.5 485,-149.5 485,-96.5 587,-96.5 587,-149.5\"/>\n<text text-anchor=\"middle\" x=\"536\" y=\"-134.3\" font-family=\"Times,serif\" font-size=\"14.00\" fill=\"#000000\">gini = 0.0</text>\n<text text-anchor=\"middle\" x=\"536\" y=\"-119.3\" font-family=\"Times,serif\" font-size=\"14.00\" fill=\"#000000\">samples = 93</text>\n<text text-anchor=\"middle\" x=\"536\" y=\"-104.3\" font-family=\"Times,serif\" font-size=\"14.00\" fill=\"#000000\">value = [0, 93]</text>\n</g>\n<!-- 14&#45;&gt;15 -->\n<g id=\"edge15\" class=\"edge\">\n<title>14&#45;&gt;15</title>\n<path fill=\"none\" stroke=\"#000000\" d=\"M536,-192.9465C536,-182.2621 536,-170.4254 536,-159.5742\"/>\n<polygon fill=\"#000000\" stroke=\"#000000\" points=\"539.5001,-159.5421 536,-149.5422 532.5001,-159.5422 539.5001,-159.5421\"/>\n</g>\n<!-- 16 -->\n<g id=\"node17\" class=\"node\">\n<title>16</title>\n<polygon fill=\"none\" stroke=\"#000000\" points=\"700.5,-149.5 605.5,-149.5 605.5,-96.5 700.5,-96.5 700.5,-149.5\"/>\n<text text-anchor=\"middle\" x=\"653\" y=\"-134.3\" font-family=\"Times,serif\" font-size=\"14.00\" fill=\"#000000\">gini = 0.0</text>\n<text text-anchor=\"middle\" x=\"653\" y=\"-119.3\" font-family=\"Times,serif\" font-size=\"14.00\" fill=\"#000000\">samples = 1</text>\n<text text-anchor=\"middle\" x=\"653\" y=\"-104.3\" font-family=\"Times,serif\" font-size=\"14.00\" fill=\"#000000\">value = [1, 0]</text>\n</g>\n<!-- 14&#45;&gt;16 -->\n<g id=\"edge16\" class=\"edge\">\n<title>14&#45;&gt;16</title>\n<path fill=\"none\" stroke=\"#000000\" d=\"M574.3102,-192.9465C587.5694,-181.1606 602.4058,-167.9726 615.5916,-156.2519\"/>\n<polygon fill=\"#000000\" stroke=\"#000000\" points=\"617.9912,-158.8018 623.1401,-149.5422 613.3407,-153.5699 617.9912,-158.8018\"/>\n</g>\n<!-- 19 -->\n<g id=\"node20\" class=\"node\">\n<title>19</title>\n<polygon fill=\"none\" stroke=\"#000000\" points=\"704.5,-357.5 609.5,-357.5 609.5,-304.5 704.5,-304.5 704.5,-357.5\"/>\n<text text-anchor=\"middle\" x=\"657\" y=\"-342.3\" font-family=\"Times,serif\" font-size=\"14.00\" fill=\"#000000\">gini = 0.0</text>\n<text text-anchor=\"middle\" x=\"657\" y=\"-327.3\" font-family=\"Times,serif\" font-size=\"14.00\" fill=\"#000000\">samples = 9</text>\n<text text-anchor=\"middle\" x=\"657\" y=\"-312.3\" font-family=\"Times,serif\" font-size=\"14.00\" fill=\"#000000\">value = [0, 9]</text>\n</g>\n<!-- 18&#45;&gt;19 -->\n<g id=\"edge19\" class=\"edge\">\n<title>18&#45;&gt;19</title>\n<path fill=\"none\" stroke=\"#000000\" d=\"M711.4776,-400.9465C702.6413,-389.6012 692.7932,-376.9567 683.9266,-365.5724\"/>\n<polygon fill=\"#000000\" stroke=\"#000000\" points=\"686.5783,-363.281 677.6723,-357.5422 681.0556,-367.5823 686.5783,-363.281\"/>\n</g>\n<!-- 20 -->\n<g id=\"node21\" class=\"node\">\n<title>20</title>\n<polygon fill=\"none\" stroke=\"#000000\" points=\"817.5,-357.5 722.5,-357.5 722.5,-304.5 817.5,-304.5 817.5,-357.5\"/>\n<text text-anchor=\"middle\" x=\"770\" y=\"-342.3\" font-family=\"Times,serif\" font-size=\"14.00\" fill=\"#000000\">gini = 0.0</text>\n<text text-anchor=\"middle\" x=\"770\" y=\"-327.3\" font-family=\"Times,serif\" font-size=\"14.00\" fill=\"#000000\">samples = 6</text>\n<text text-anchor=\"middle\" x=\"770\" y=\"-312.3\" font-family=\"Times,serif\" font-size=\"14.00\" fill=\"#000000\">value = [6, 0]</text>\n</g>\n<!-- 18&#45;&gt;20 -->\n<g id=\"edge20\" class=\"edge\">\n<title>18&#45;&gt;20</title>\n<path fill=\"none\" stroke=\"#000000\" d=\"M748.478,-400.9465C751.7994,-390.1519 755.4827,-378.1813 758.8496,-367.2389\"/>\n<polygon fill=\"#000000\" stroke=\"#000000\" points=\"762.2375,-368.1293 761.8332,-357.5422 755.547,-366.0706 762.2375,-368.1293\"/>\n</g>\n<!-- 22 -->\n<g id=\"node23\" class=\"node\">\n<title>22</title>\n<polygon fill=\"none\" stroke=\"#000000\" points=\"938,-469 836,-469 836,-401 938,-401 938,-469\"/>\n<text text-anchor=\"middle\" x=\"887\" y=\"-453.8\" font-family=\"Times,serif\" font-size=\"14.00\" fill=\"#000000\">X[2] &lt;= 1.878</text>\n<text text-anchor=\"middle\" x=\"887\" y=\"-438.8\" font-family=\"Times,serif\" font-size=\"14.00\" fill=\"#000000\">gini = 0.091</text>\n<text text-anchor=\"middle\" x=\"887\" y=\"-423.8\" font-family=\"Times,serif\" font-size=\"14.00\" fill=\"#000000\">samples = 21</text>\n<text text-anchor=\"middle\" x=\"887\" y=\"-408.8\" font-family=\"Times,serif\" font-size=\"14.00\" fill=\"#000000\">value = [1, 20]</text>\n</g>\n<!-- 21&#45;&gt;22 -->\n<g id=\"edge22\" class=\"edge\">\n<title>21&#45;&gt;22</title>\n<path fill=\"none\" stroke=\"#000000\" d=\"M905.8318,-504.9465C903.5837,-496.5965 901.1461,-487.5427 898.7938,-478.8056\"/>\n<polygon fill=\"#000000\" stroke=\"#000000\" points=\"902.1683,-477.8762 896.1888,-469.13 895.409,-479.6961 902.1683,-477.8762\"/>\n</g>\n<!-- 25 -->\n<g id=\"node26\" class=\"node\">\n<title>25</title>\n<polygon fill=\"none\" stroke=\"#000000\" points=\"1058,-461.5 956,-461.5 956,-408.5 1058,-408.5 1058,-461.5\"/>\n<text text-anchor=\"middle\" x=\"1007\" y=\"-446.3\" font-family=\"Times,serif\" font-size=\"14.00\" fill=\"#000000\">gini = 0.0</text>\n<text text-anchor=\"middle\" x=\"1007\" y=\"-431.3\" font-family=\"Times,serif\" font-size=\"14.00\" fill=\"#000000\">samples = 79</text>\n<text text-anchor=\"middle\" x=\"1007\" y=\"-416.3\" font-family=\"Times,serif\" font-size=\"14.00\" fill=\"#000000\">value = [79, 0]</text>\n</g>\n<!-- 21&#45;&gt;25 -->\n<g id=\"edge25\" class=\"edge\">\n<title>21&#45;&gt;25</title>\n<path fill=\"none\" stroke=\"#000000\" d=\"M945.1242,-504.9465C955.258,-493.491 966.5633,-480.711 976.7097,-469.2412\"/>\n<polygon fill=\"#000000\" stroke=\"#000000\" points=\"979.5161,-471.3512 983.5204,-461.5422 974.2731,-466.7131 979.5161,-471.3512\"/>\n</g>\n<!-- 23 -->\n<g id=\"node24\" class=\"node\">\n<title>23</title>\n<polygon fill=\"none\" stroke=\"#000000\" points=\"938,-357.5 836,-357.5 836,-304.5 938,-304.5 938,-357.5\"/>\n<text text-anchor=\"middle\" x=\"887\" y=\"-342.3\" font-family=\"Times,serif\" font-size=\"14.00\" fill=\"#000000\">gini = 0.0</text>\n<text text-anchor=\"middle\" x=\"887\" y=\"-327.3\" font-family=\"Times,serif\" font-size=\"14.00\" fill=\"#000000\">samples = 20</text>\n<text text-anchor=\"middle\" x=\"887\" y=\"-312.3\" font-family=\"Times,serif\" font-size=\"14.00\" fill=\"#000000\">value = [0, 20]</text>\n</g>\n<!-- 22&#45;&gt;23 -->\n<g id=\"edge23\" class=\"edge\">\n<title>22&#45;&gt;23</title>\n<path fill=\"none\" stroke=\"#000000\" d=\"M887,-400.9465C887,-390.2621 887,-378.4254 887,-367.5742\"/>\n<polygon fill=\"#000000\" stroke=\"#000000\" points=\"890.5001,-367.5421 887,-357.5422 883.5001,-367.5422 890.5001,-367.5421\"/>\n</g>\n<!-- 24 -->\n<g id=\"node25\" class=\"node\">\n<title>24</title>\n<polygon fill=\"none\" stroke=\"#000000\" points=\"1051.5,-357.5 956.5,-357.5 956.5,-304.5 1051.5,-304.5 1051.5,-357.5\"/>\n<text text-anchor=\"middle\" x=\"1004\" y=\"-342.3\" font-family=\"Times,serif\" font-size=\"14.00\" fill=\"#000000\">gini = 0.0</text>\n<text text-anchor=\"middle\" x=\"1004\" y=\"-327.3\" font-family=\"Times,serif\" font-size=\"14.00\" fill=\"#000000\">samples = 1</text>\n<text text-anchor=\"middle\" x=\"1004\" y=\"-312.3\" font-family=\"Times,serif\" font-size=\"14.00\" fill=\"#000000\">value = [1, 0]</text>\n</g>\n<!-- 22&#45;&gt;24 -->\n<g id=\"edge24\" class=\"edge\">\n<title>22&#45;&gt;24</title>\n<path fill=\"none\" stroke=\"#000000\" d=\"M925.3102,-400.9465C938.5694,-389.1606 953.4058,-375.9726 966.5916,-364.2519\"/>\n<polygon fill=\"#000000\" stroke=\"#000000\" points=\"968.9912,-366.8018 974.1401,-357.5422 964.3407,-361.5699 968.9912,-366.8018\"/>\n</g>\n<!-- 27 -->\n<g id=\"node28\" class=\"node\">\n<title>27</title>\n<polygon fill=\"none\" stroke=\"#000000\" points=\"1234,-573 1132,-573 1132,-505 1234,-505 1234,-573\"/>\n<text text-anchor=\"middle\" x=\"1183\" y=\"-557.8\" font-family=\"Times,serif\" font-size=\"14.00\" fill=\"#000000\">X[0] &lt;= 3.304</text>\n<text text-anchor=\"middle\" x=\"1183\" y=\"-542.8\" font-family=\"Times,serif\" font-size=\"14.00\" fill=\"#000000\">gini = 0.358</text>\n<text text-anchor=\"middle\" x=\"1183\" y=\"-527.8\" font-family=\"Times,serif\" font-size=\"14.00\" fill=\"#000000\">samples = 30</text>\n<text text-anchor=\"middle\" x=\"1183\" y=\"-512.8\" font-family=\"Times,serif\" font-size=\"14.00\" fill=\"#000000\">value = [7, 23]</text>\n</g>\n<!-- 26&#45;&gt;27 -->\n<g id=\"edge27\" class=\"edge\">\n<title>26&#45;&gt;27</title>\n<path fill=\"none\" stroke=\"#000000\" d=\"M1183,-608.9465C1183,-600.776 1183,-591.9318 1183,-583.3697\"/>\n<polygon fill=\"#000000\" stroke=\"#000000\" points=\"1186.5001,-583.13 1183,-573.13 1179.5001,-583.13 1186.5001,-583.13\"/>\n</g>\n<!-- 30 -->\n<g id=\"node31\" class=\"node\">\n<title>30</title>\n<polygon fill=\"none\" stroke=\"#000000\" points=\"1426.5,-573 1309.5,-573 1309.5,-505 1426.5,-505 1426.5,-573\"/>\n<text text-anchor=\"middle\" x=\"1368\" y=\"-557.8\" font-family=\"Times,serif\" font-size=\"14.00\" fill=\"#000000\">X[0] &lt;= 1.592</text>\n<text text-anchor=\"middle\" x=\"1368\" y=\"-542.8\" font-family=\"Times,serif\" font-size=\"14.00\" fill=\"#000000\">gini = 0.142</text>\n<text text-anchor=\"middle\" x=\"1368\" y=\"-527.8\" font-family=\"Times,serif\" font-size=\"14.00\" fill=\"#000000\">samples = 535</text>\n<text text-anchor=\"middle\" x=\"1368\" y=\"-512.8\" font-family=\"Times,serif\" font-size=\"14.00\" fill=\"#000000\">value = [494, 41]</text>\n</g>\n<!-- 26&#45;&gt;30 -->\n<g id=\"edge30\" class=\"edge\">\n<title>26&#45;&gt;30</title>\n<path fill=\"none\" stroke=\"#000000\" d=\"M1241.5352,-610.0938C1260.2621,-599.5662 1281.1458,-587.8261 1300.4603,-576.9683\"/>\n<polygon fill=\"#000000\" stroke=\"#000000\" points=\"1302.2088,-580.0005 1309.2107,-572.0491 1298.7785,-573.8986 1302.2088,-580.0005\"/>\n</g>\n<!-- 28 -->\n<g id=\"node29\" class=\"node\">\n<title>28</title>\n<polygon fill=\"none\" stroke=\"#000000\" points=\"1178,-461.5 1076,-461.5 1076,-408.5 1178,-408.5 1178,-461.5\"/>\n<text text-anchor=\"middle\" x=\"1127\" y=\"-446.3\" font-family=\"Times,serif\" font-size=\"14.00\" fill=\"#000000\">gini = 0.0</text>\n<text text-anchor=\"middle\" x=\"1127\" y=\"-431.3\" font-family=\"Times,serif\" font-size=\"14.00\" fill=\"#000000\">samples = 23</text>\n<text text-anchor=\"middle\" x=\"1127\" y=\"-416.3\" font-family=\"Times,serif\" font-size=\"14.00\" fill=\"#000000\">value = [0, 23]</text>\n</g>\n<!-- 27&#45;&gt;28 -->\n<g id=\"edge28\" class=\"edge\">\n<title>27&#45;&gt;28</title>\n<path fill=\"none\" stroke=\"#000000\" d=\"M1164.6635,-504.9465C1158.7324,-493.9316 1152.1419,-481.6922 1146.1532,-470.5703\"/>\n<polygon fill=\"#000000\" stroke=\"#000000\" points=\"1149.1146,-468.6875 1141.2919,-461.5422 1142.9513,-472.0063 1149.1146,-468.6875\"/>\n</g>\n<!-- 29 -->\n<g id=\"node30\" class=\"node\">\n<title>29</title>\n<polygon fill=\"none\" stroke=\"#000000\" points=\"1291.5,-461.5 1196.5,-461.5 1196.5,-408.5 1291.5,-408.5 1291.5,-461.5\"/>\n<text text-anchor=\"middle\" x=\"1244\" y=\"-446.3\" font-family=\"Times,serif\" font-size=\"14.00\" fill=\"#000000\">gini = 0.0</text>\n<text text-anchor=\"middle\" x=\"1244\" y=\"-431.3\" font-family=\"Times,serif\" font-size=\"14.00\" fill=\"#000000\">samples = 7</text>\n<text text-anchor=\"middle\" x=\"1244\" y=\"-416.3\" font-family=\"Times,serif\" font-size=\"14.00\" fill=\"#000000\">value = [7, 0]</text>\n</g>\n<!-- 27&#45;&gt;29 -->\n<g id=\"edge29\" class=\"edge\">\n<title>27&#45;&gt;29</title>\n<path fill=\"none\" stroke=\"#000000\" d=\"M1202.9737,-504.9465C1209.499,-493.8215 1216.7569,-481.4473 1223.3322,-470.237\"/>\n<polygon fill=\"#000000\" stroke=\"#000000\" points=\"1226.3916,-471.9387 1228.432,-461.5422 1220.3536,-468.3971 1226.3916,-471.9387\"/>\n</g>\n<!-- 31 -->\n<g id=\"node32\" class=\"node\">\n<title>31</title>\n<polygon fill=\"none\" stroke=\"#000000\" points=\"1426,-469 1310,-469 1310,-401 1426,-401 1426,-469\"/>\n<text text-anchor=\"middle\" x=\"1368\" y=\"-453.8\" font-family=\"Times,serif\" font-size=\"14.00\" fill=\"#000000\">X[2] &lt;= &#45;1.734</text>\n<text text-anchor=\"middle\" x=\"1368\" y=\"-438.8\" font-family=\"Times,serif\" font-size=\"14.00\" fill=\"#000000\">gini = 0.375</text>\n<text text-anchor=\"middle\" x=\"1368\" y=\"-423.8\" font-family=\"Times,serif\" font-size=\"14.00\" fill=\"#000000\">samples = 152</text>\n<text text-anchor=\"middle\" x=\"1368\" y=\"-408.8\" font-family=\"Times,serif\" font-size=\"14.00\" fill=\"#000000\">value = [114, 38]</text>\n</g>\n<!-- 30&#45;&gt;31 -->\n<g id=\"edge31\" class=\"edge\">\n<title>30&#45;&gt;31</title>\n<path fill=\"none\" stroke=\"#000000\" d=\"M1368,-504.9465C1368,-496.776 1368,-487.9318 1368,-479.3697\"/>\n<polygon fill=\"#000000\" stroke=\"#000000\" points=\"1371.5001,-479.13 1368,-469.13 1364.5001,-479.13 1371.5001,-479.13\"/>\n</g>\n<!-- 44 -->\n<g id=\"node45\" class=\"node\">\n<title>44</title>\n<polygon fill=\"none\" stroke=\"#000000\" points=\"1707,-469 1597,-469 1597,-401 1707,-401 1707,-469\"/>\n<text text-anchor=\"middle\" x=\"1652\" y=\"-453.8\" font-family=\"Times,serif\" font-size=\"14.00\" fill=\"#000000\">X[0] &lt;= 2.039</text>\n<text text-anchor=\"middle\" x=\"1652\" y=\"-438.8\" font-family=\"Times,serif\" font-size=\"14.00\" fill=\"#000000\">gini = 0.016</text>\n<text text-anchor=\"middle\" x=\"1652\" y=\"-423.8\" font-family=\"Times,serif\" font-size=\"14.00\" fill=\"#000000\">samples = 383</text>\n<text text-anchor=\"middle\" x=\"1652\" y=\"-408.8\" font-family=\"Times,serif\" font-size=\"14.00\" fill=\"#000000\">value = [380, 3]</text>\n</g>\n<!-- 30&#45;&gt;44 -->\n<g id=\"edge44\" class=\"edge\">\n<title>30&#45;&gt;44</title>\n<path fill=\"none\" stroke=\"#000000\" d=\"M1426.5006,-517.5772C1473.3871,-500.4075 1539.1104,-476.3398 1587.5114,-458.6155\"/>\n<polygon fill=\"#000000\" stroke=\"#000000\" points=\"1588.7633,-461.8845 1596.95,-455.1592 1586.3562,-455.3113 1588.7633,-461.8845\"/>\n</g>\n<!-- 32 -->\n<g id=\"node33\" class=\"node\">\n<title>32</title>\n<polygon fill=\"none\" stroke=\"#000000\" points=\"1236,-365 1134,-365 1134,-297 1236,-297 1236,-365\"/>\n<text text-anchor=\"middle\" x=\"1185\" y=\"-349.8\" font-family=\"Times,serif\" font-size=\"14.00\" fill=\"#000000\">X[1] &lt;= 5.289</text>\n<text text-anchor=\"middle\" x=\"1185\" y=\"-334.8\" font-family=\"Times,serif\" font-size=\"14.00\" fill=\"#000000\">gini = 0.368</text>\n<text text-anchor=\"middle\" x=\"1185\" y=\"-319.8\" font-family=\"Times,serif\" font-size=\"14.00\" fill=\"#000000\">samples = 37</text>\n<text text-anchor=\"middle\" x=\"1185\" y=\"-304.8\" font-family=\"Times,serif\" font-size=\"14.00\" fill=\"#000000\">value = [9, 28]</text>\n</g>\n<!-- 31&#45;&gt;32 -->\n<g id=\"edge32\" class=\"edge\">\n<title>31&#45;&gt;32</title>\n<path fill=\"none\" stroke=\"#000000\" d=\"M1309.8462,-401.9509C1289.15,-390.1891 1265.817,-376.9288 1244.9714,-365.0821\"/>\n<polygon fill=\"#000000\" stroke=\"#000000\" points=\"1246.6282,-361.998 1236.2048,-360.1 1243.1696,-368.0839 1246.6282,-361.998\"/>\n</g>\n<!-- 35 -->\n<g id=\"node36\" class=\"node\">\n<title>35</title>\n<polygon fill=\"none\" stroke=\"#000000\" points=\"1426.5,-365 1309.5,-365 1309.5,-297 1426.5,-297 1426.5,-365\"/>\n<text text-anchor=\"middle\" x=\"1368\" y=\"-349.8\" font-family=\"Times,serif\" font-size=\"14.00\" fill=\"#000000\">X[3] &lt;= 0.23</text>\n<text text-anchor=\"middle\" x=\"1368\" y=\"-334.8\" font-family=\"Times,serif\" font-size=\"14.00\" fill=\"#000000\">gini = 0.159</text>\n<text text-anchor=\"middle\" x=\"1368\" y=\"-319.8\" font-family=\"Times,serif\" font-size=\"14.00\" fill=\"#000000\">samples = 115</text>\n<text text-anchor=\"middle\" x=\"1368\" y=\"-304.8\" font-family=\"Times,serif\" font-size=\"14.00\" fill=\"#000000\">value = [105, 10]</text>\n</g>\n<!-- 31&#45;&gt;35 -->\n<g id=\"edge35\" class=\"edge\">\n<title>31&#45;&gt;35</title>\n<path fill=\"none\" stroke=\"#000000\" d=\"M1368,-400.9465C1368,-392.776 1368,-383.9318 1368,-375.3697\"/>\n<polygon fill=\"#000000\" stroke=\"#000000\" points=\"1371.5001,-375.13 1368,-365.13 1364.5001,-375.13 1371.5001,-375.13\"/>\n</g>\n<!-- 33 -->\n<g id=\"node34\" class=\"node\">\n<title>33</title>\n<polygon fill=\"none\" stroke=\"#000000\" points=\"1119,-253.5 1017,-253.5 1017,-200.5 1119,-200.5 1119,-253.5\"/>\n<text text-anchor=\"middle\" x=\"1068\" y=\"-238.3\" font-family=\"Times,serif\" font-size=\"14.00\" fill=\"#000000\">gini = 0.0</text>\n<text text-anchor=\"middle\" x=\"1068\" y=\"-223.3\" font-family=\"Times,serif\" font-size=\"14.00\" fill=\"#000000\">samples = 28</text>\n<text text-anchor=\"middle\" x=\"1068\" y=\"-208.3\" font-family=\"Times,serif\" font-size=\"14.00\" fill=\"#000000\">value = [0, 28]</text>\n</g>\n<!-- 32&#45;&gt;33 -->\n<g id=\"edge33\" class=\"edge\">\n<title>32&#45;&gt;33</title>\n<path fill=\"none\" stroke=\"#000000\" d=\"M1146.6898,-296.9465C1133.4306,-285.1606 1118.5942,-271.9726 1105.4084,-260.2519\"/>\n<polygon fill=\"#000000\" stroke=\"#000000\" points=\"1107.6593,-257.5699 1097.8599,-253.5422 1103.0088,-262.8018 1107.6593,-257.5699\"/>\n</g>\n<!-- 34 -->\n<g id=\"node35\" class=\"node\">\n<title>34</title>\n<polygon fill=\"none\" stroke=\"#000000\" points=\"1232.5,-253.5 1137.5,-253.5 1137.5,-200.5 1232.5,-200.5 1232.5,-253.5\"/>\n<text text-anchor=\"middle\" x=\"1185\" y=\"-238.3\" font-family=\"Times,serif\" font-size=\"14.00\" fill=\"#000000\">gini = 0.0</text>\n<text text-anchor=\"middle\" x=\"1185\" y=\"-223.3\" font-family=\"Times,serif\" font-size=\"14.00\" fill=\"#000000\">samples = 9</text>\n<text text-anchor=\"middle\" x=\"1185\" y=\"-208.3\" font-family=\"Times,serif\" font-size=\"14.00\" fill=\"#000000\">value = [9, 0]</text>\n</g>\n<!-- 32&#45;&gt;34 -->\n<g id=\"edge34\" class=\"edge\">\n<title>32&#45;&gt;34</title>\n<path fill=\"none\" stroke=\"#000000\" d=\"M1185,-296.9465C1185,-286.2621 1185,-274.4254 1185,-263.5742\"/>\n<polygon fill=\"#000000\" stroke=\"#000000\" points=\"1188.5001,-263.5421 1185,-253.5422 1181.5001,-263.5422 1188.5001,-263.5421\"/>\n</g>\n<!-- 36 -->\n<g id=\"node37\" class=\"node\">\n<title>36</title>\n<polygon fill=\"none\" stroke=\"#000000\" points=\"1353,-261 1251,-261 1251,-193 1353,-193 1353,-261\"/>\n<text text-anchor=\"middle\" x=\"1302\" y=\"-245.8\" font-family=\"Times,serif\" font-size=\"14.00\" fill=\"#000000\">X[3] &lt;= 0.106</text>\n<text text-anchor=\"middle\" x=\"1302\" y=\"-230.8\" font-family=\"Times,serif\" font-size=\"14.00\" fill=\"#000000\">gini = 0.021</text>\n<text text-anchor=\"middle\" x=\"1302\" y=\"-215.8\" font-family=\"Times,serif\" font-size=\"14.00\" fill=\"#000000\">samples = 96</text>\n<text text-anchor=\"middle\" x=\"1302\" y=\"-200.8\" font-family=\"Times,serif\" font-size=\"14.00\" fill=\"#000000\">value = [95, 1]</text>\n</g>\n<!-- 35&#45;&gt;36 -->\n<g id=\"edge36\" class=\"edge\">\n<title>35&#45;&gt;36</title>\n<path fill=\"none\" stroke=\"#000000\" d=\"M1346.3891,-296.9465C1340.8622,-288.2373 1334.8494,-278.7626 1329.0854,-269.6801\"/>\n<polygon fill=\"#000000\" stroke=\"#000000\" points=\"1331.9729,-267.6979 1323.6594,-261.13 1326.0626,-271.4487 1331.9729,-267.6979\"/>\n</g>\n<!-- 41 -->\n<g id=\"node42\" class=\"node\">\n<title>41</title>\n<polygon fill=\"none\" stroke=\"#000000\" points=\"1473,-261 1371,-261 1371,-193 1473,-193 1473,-261\"/>\n<text text-anchor=\"middle\" x=\"1422\" y=\"-245.8\" font-family=\"Times,serif\" font-size=\"14.00\" fill=\"#000000\">X[2] &lt;= 1.952</text>\n<text text-anchor=\"middle\" x=\"1422\" y=\"-230.8\" font-family=\"Times,serif\" font-size=\"14.00\" fill=\"#000000\">gini = 0.499</text>\n<text text-anchor=\"middle\" x=\"1422\" y=\"-215.8\" font-family=\"Times,serif\" font-size=\"14.00\" fill=\"#000000\">samples = 19</text>\n<text text-anchor=\"middle\" x=\"1422\" y=\"-200.8\" font-family=\"Times,serif\" font-size=\"14.00\" fill=\"#000000\">value = [10, 9]</text>\n</g>\n<!-- 35&#45;&gt;41 -->\n<g id=\"edge41\" class=\"edge\">\n<title>35&#45;&gt;41</title>\n<path fill=\"none\" stroke=\"#000000\" d=\"M1385.6816,-296.9465C1390.1105,-288.4169 1394.9206,-279.153 1399.5472,-270.2424\"/>\n<polygon fill=\"#000000\" stroke=\"#000000\" points=\"1402.7767,-271.6178 1404.2787,-261.13 1396.5642,-268.3921 1402.7767,-271.6178\"/>\n</g>\n<!-- 37 -->\n<g id=\"node38\" class=\"node\">\n<title>37</title>\n<polygon fill=\"none\" stroke=\"#000000\" points=\"1233,-149.5 1131,-149.5 1131,-96.5 1233,-96.5 1233,-149.5\"/>\n<text text-anchor=\"middle\" x=\"1182\" y=\"-134.3\" font-family=\"Times,serif\" font-size=\"14.00\" fill=\"#000000\">gini = 0.0</text>\n<text text-anchor=\"middle\" x=\"1182\" y=\"-119.3\" font-family=\"Times,serif\" font-size=\"14.00\" fill=\"#000000\">samples = 91</text>\n<text text-anchor=\"middle\" x=\"1182\" y=\"-104.3\" font-family=\"Times,serif\" font-size=\"14.00\" fill=\"#000000\">value = [91, 0]</text>\n</g>\n<!-- 36&#45;&gt;37 -->\n<g id=\"edge37\" class=\"edge\">\n<title>36&#45;&gt;37</title>\n<path fill=\"none\" stroke=\"#000000\" d=\"M1262.7075,-192.9465C1249.1083,-181.1606 1233.8915,-167.9726 1220.3676,-156.2519\"/>\n<polygon fill=\"#000000\" stroke=\"#000000\" points=\"1222.4748,-153.4466 1212.6256,-149.5422 1217.8902,-158.7364 1222.4748,-153.4466\"/>\n</g>\n<!-- 38 -->\n<g id=\"node39\" class=\"node\">\n<title>38</title>\n<polygon fill=\"none\" stroke=\"#000000\" points=\"1352.5,-157 1251.5,-157 1251.5,-89 1352.5,-89 1352.5,-157\"/>\n<text text-anchor=\"middle\" x=\"1302\" y=\"-141.8\" font-family=\"Times,serif\" font-size=\"14.00\" fill=\"#000000\">X[3] &lt;= 0.165</text>\n<text text-anchor=\"middle\" x=\"1302\" y=\"-126.8\" font-family=\"Times,serif\" font-size=\"14.00\" fill=\"#000000\">gini = 0.32</text>\n<text text-anchor=\"middle\" x=\"1302\" y=\"-111.8\" font-family=\"Times,serif\" font-size=\"14.00\" fill=\"#000000\">samples = 5</text>\n<text text-anchor=\"middle\" x=\"1302\" y=\"-96.8\" font-family=\"Times,serif\" font-size=\"14.00\" fill=\"#000000\">value = [4, 1]</text>\n</g>\n<!-- 36&#45;&gt;38 -->\n<g id=\"edge38\" class=\"edge\">\n<title>36&#45;&gt;38</title>\n<path fill=\"none\" stroke=\"#000000\" d=\"M1302,-192.9465C1302,-184.776 1302,-175.9318 1302,-167.3697\"/>\n<polygon fill=\"#000000\" stroke=\"#000000\" points=\"1305.5001,-167.13 1302,-157.13 1298.5001,-167.13 1305.5001,-167.13\"/>\n</g>\n<!-- 39 -->\n<g id=\"node40\" class=\"node\">\n<title>39</title>\n<polygon fill=\"none\" stroke=\"#000000\" points=\"1292.5,-53 1197.5,-53 1197.5,0 1292.5,0 1292.5,-53\"/>\n<text text-anchor=\"middle\" x=\"1245\" y=\"-37.8\" font-family=\"Times,serif\" font-size=\"14.00\" fill=\"#000000\">gini = 0.0</text>\n<text text-anchor=\"middle\" x=\"1245\" y=\"-22.8\" font-family=\"Times,serif\" font-size=\"14.00\" fill=\"#000000\">samples = 1</text>\n<text text-anchor=\"middle\" x=\"1245\" y=\"-7.8\" font-family=\"Times,serif\" font-size=\"14.00\" fill=\"#000000\">value = [0, 1]</text>\n</g>\n<!-- 38&#45;&gt;39 -->\n<g id=\"edge39\" class=\"edge\">\n<title>38&#45;&gt;39</title>\n<path fill=\"none\" stroke=\"#000000\" d=\"M1281.9039,-88.9777C1276.7656,-80.2786 1271.227,-70.9018 1266.0425,-62.1247\"/>\n<polygon fill=\"#000000\" stroke=\"#000000\" points=\"1268.899,-60.0786 1260.7996,-53.2485 1262.8719,-63.6387 1268.899,-60.0786\"/>\n</g>\n<!-- 40 -->\n<g id=\"node41\" class=\"node\">\n<title>40</title>\n<polygon fill=\"none\" stroke=\"#000000\" points=\"1405.5,-53 1310.5,-53 1310.5,0 1405.5,0 1405.5,-53\"/>\n<text text-anchor=\"middle\" x=\"1358\" y=\"-37.8\" font-family=\"Times,serif\" font-size=\"14.00\" fill=\"#000000\">gini = 0.0</text>\n<text text-anchor=\"middle\" x=\"1358\" y=\"-22.8\" font-family=\"Times,serif\" font-size=\"14.00\" fill=\"#000000\">samples = 4</text>\n<text text-anchor=\"middle\" x=\"1358\" y=\"-7.8\" font-family=\"Times,serif\" font-size=\"14.00\" fill=\"#000000\">value = [4, 0]</text>\n</g>\n<!-- 38&#45;&gt;40 -->\n<g id=\"edge40\" class=\"edge\">\n<title>38&#45;&gt;40</title>\n<path fill=\"none\" stroke=\"#000000\" d=\"M1321.7435,-88.9777C1326.7917,-80.2786 1332.2331,-70.9018 1337.3266,-62.1247\"/>\n<polygon fill=\"#000000\" stroke=\"#000000\" points=\"1340.4855,-63.6544 1342.4776,-53.2485 1334.4311,-60.1409 1340.4855,-63.6544\"/>\n</g>\n<!-- 42 -->\n<g id=\"node43\" class=\"node\">\n<title>42</title>\n<polygon fill=\"none\" stroke=\"#000000\" points=\"1465.5,-149.5 1370.5,-149.5 1370.5,-96.5 1465.5,-96.5 1465.5,-149.5\"/>\n<text text-anchor=\"middle\" x=\"1418\" y=\"-134.3\" font-family=\"Times,serif\" font-size=\"14.00\" fill=\"#000000\">gini = 0.0</text>\n<text text-anchor=\"middle\" x=\"1418\" y=\"-119.3\" font-family=\"Times,serif\" font-size=\"14.00\" fill=\"#000000\">samples = 9</text>\n<text text-anchor=\"middle\" x=\"1418\" y=\"-104.3\" font-family=\"Times,serif\" font-size=\"14.00\" fill=\"#000000\">value = [0, 9]</text>\n</g>\n<!-- 41&#45;&gt;42 -->\n<g id=\"edge42\" class=\"edge\">\n<title>41&#45;&gt;42</title>\n<path fill=\"none\" stroke=\"#000000\" d=\"M1420.6903,-192.9465C1420.2793,-182.2621 1419.8241,-170.4254 1419.4067,-159.5742\"/>\n<polygon fill=\"#000000\" stroke=\"#000000\" points=\"1422.9027,-159.4002 1419.0209,-149.5422 1415.9079,-159.6693 1422.9027,-159.4002\"/>\n</g>\n<!-- 43 -->\n<g id=\"node44\" class=\"node\">\n<title>43</title>\n<polygon fill=\"none\" stroke=\"#000000\" points=\"1586,-149.5 1484,-149.5 1484,-96.5 1586,-96.5 1586,-149.5\"/>\n<text text-anchor=\"middle\" x=\"1535\" y=\"-134.3\" font-family=\"Times,serif\" font-size=\"14.00\" fill=\"#000000\">gini = 0.0</text>\n<text text-anchor=\"middle\" x=\"1535\" y=\"-119.3\" font-family=\"Times,serif\" font-size=\"14.00\" fill=\"#000000\">samples = 10</text>\n<text text-anchor=\"middle\" x=\"1535\" y=\"-104.3\" font-family=\"Times,serif\" font-size=\"14.00\" fill=\"#000000\">value = [10, 0]</text>\n</g>\n<!-- 41&#45;&gt;43 -->\n<g id=\"edge43\" class=\"edge\">\n<title>41&#45;&gt;43</title>\n<path fill=\"none\" stroke=\"#000000\" d=\"M1459.0004,-192.9465C1471.6866,-181.2707 1485.8678,-168.219 1498.513,-156.5809\"/>\n<polygon fill=\"#000000\" stroke=\"#000000\" points=\"1501.1731,-158.8895 1506.1609,-149.5422 1496.4327,-153.7389 1501.1731,-158.8895\"/>\n</g>\n<!-- 45 -->\n<g id=\"node46\" class=\"node\">\n<title>45</title>\n<polygon fill=\"none\" stroke=\"#000000\" points=\"1705,-365 1599,-365 1599,-297 1705,-297 1705,-365\"/>\n<text text-anchor=\"middle\" x=\"1652\" y=\"-349.8\" font-family=\"Times,serif\" font-size=\"14.00\" fill=\"#000000\">X[2] &lt;= &#45;2.648</text>\n<text text-anchor=\"middle\" x=\"1652\" y=\"-334.8\" font-family=\"Times,serif\" font-size=\"14.00\" fill=\"#000000\">gini = 0.124</text>\n<text text-anchor=\"middle\" x=\"1652\" y=\"-319.8\" font-family=\"Times,serif\" font-size=\"14.00\" fill=\"#000000\">samples = 45</text>\n<text text-anchor=\"middle\" x=\"1652\" y=\"-304.8\" font-family=\"Times,serif\" font-size=\"14.00\" fill=\"#000000\">value = [42, 3]</text>\n</g>\n<!-- 44&#45;&gt;45 -->\n<g id=\"edge45\" class=\"edge\">\n<title>44&#45;&gt;45</title>\n<path fill=\"none\" stroke=\"#000000\" d=\"M1652,-400.9465C1652,-392.776 1652,-383.9318 1652,-375.3697\"/>\n<polygon fill=\"#000000\" stroke=\"#000000\" points=\"1655.5001,-375.13 1652,-365.13 1648.5001,-375.13 1655.5001,-375.13\"/>\n</g>\n<!-- 50 -->\n<g id=\"node51\" class=\"node\">\n<title>50</title>\n<polygon fill=\"none\" stroke=\"#000000\" points=\"1833,-357.5 1723,-357.5 1723,-304.5 1833,-304.5 1833,-357.5\"/>\n<text text-anchor=\"middle\" x=\"1778\" y=\"-342.3\" font-family=\"Times,serif\" font-size=\"14.00\" fill=\"#000000\">gini = 0.0</text>\n<text text-anchor=\"middle\" x=\"1778\" y=\"-327.3\" font-family=\"Times,serif\" font-size=\"14.00\" fill=\"#000000\">samples = 338</text>\n<text text-anchor=\"middle\" x=\"1778\" y=\"-312.3\" font-family=\"Times,serif\" font-size=\"14.00\" fill=\"#000000\">value = [338, 0]</text>\n</g>\n<!-- 44&#45;&gt;50 -->\n<g id=\"edge50\" class=\"edge\">\n<title>44&#45;&gt;50</title>\n<path fill=\"none\" stroke=\"#000000\" d=\"M1693.2571,-400.9465C1707.6697,-389.0504 1723.8127,-375.726 1738.1117,-363.9237\"/>\n<polygon fill=\"#000000\" stroke=\"#000000\" points=\"1740.3589,-366.6071 1745.8431,-357.5422 1735.9029,-361.2086 1740.3589,-366.6071\"/>\n</g>\n<!-- 46 -->\n<g id=\"node47\" class=\"node\">\n<title>46</title>\n<polygon fill=\"none\" stroke=\"#000000\" points=\"1702.5,-261 1601.5,-261 1601.5,-193 1702.5,-193 1702.5,-261\"/>\n<text text-anchor=\"middle\" x=\"1652\" y=\"-245.8\" font-family=\"Times,serif\" font-size=\"14.00\" fill=\"#000000\">X[1] &lt;= 6.473</text>\n<text text-anchor=\"middle\" x=\"1652\" y=\"-230.8\" font-family=\"Times,serif\" font-size=\"14.00\" fill=\"#000000\">gini = 0.375</text>\n<text text-anchor=\"middle\" x=\"1652\" y=\"-215.8\" font-family=\"Times,serif\" font-size=\"14.00\" fill=\"#000000\">samples = 4</text>\n<text text-anchor=\"middle\" x=\"1652\" y=\"-200.8\" font-family=\"Times,serif\" font-size=\"14.00\" fill=\"#000000\">value = [1, 3]</text>\n</g>\n<!-- 45&#45;&gt;46 -->\n<g id=\"edge46\" class=\"edge\">\n<title>45&#45;&gt;46</title>\n<path fill=\"none\" stroke=\"#000000\" d=\"M1652,-296.9465C1652,-288.776 1652,-279.9318 1652,-271.3697\"/>\n<polygon fill=\"#000000\" stroke=\"#000000\" points=\"1655.5001,-271.13 1652,-261.13 1648.5001,-271.13 1655.5001,-271.13\"/>\n</g>\n<!-- 49 -->\n<g id=\"node50\" class=\"node\">\n<title>49</title>\n<polygon fill=\"none\" stroke=\"#000000\" points=\"1823,-253.5 1721,-253.5 1721,-200.5 1823,-200.5 1823,-253.5\"/>\n<text text-anchor=\"middle\" x=\"1772\" y=\"-238.3\" font-family=\"Times,serif\" font-size=\"14.00\" fill=\"#000000\">gini = 0.0</text>\n<text text-anchor=\"middle\" x=\"1772\" y=\"-223.3\" font-family=\"Times,serif\" font-size=\"14.00\" fill=\"#000000\">samples = 41</text>\n<text text-anchor=\"middle\" x=\"1772\" y=\"-208.3\" font-family=\"Times,serif\" font-size=\"14.00\" fill=\"#000000\">value = [41, 0]</text>\n</g>\n<!-- 45&#45;&gt;49 -->\n<g id=\"edge49\" class=\"edge\">\n<title>45&#45;&gt;49</title>\n<path fill=\"none\" stroke=\"#000000\" d=\"M1691.2925,-296.9465C1704.8917,-285.1606 1720.1085,-271.9726 1733.6324,-260.2519\"/>\n<polygon fill=\"#000000\" stroke=\"#000000\" points=\"1736.1098,-262.7364 1741.3744,-253.5422 1731.5252,-257.4466 1736.1098,-262.7364\"/>\n</g>\n<!-- 47 -->\n<g id=\"node48\" class=\"node\">\n<title>47</title>\n<polygon fill=\"none\" stroke=\"#000000\" points=\"1699.5,-149.5 1604.5,-149.5 1604.5,-96.5 1699.5,-96.5 1699.5,-149.5\"/>\n<text text-anchor=\"middle\" x=\"1652\" y=\"-134.3\" font-family=\"Times,serif\" font-size=\"14.00\" fill=\"#000000\">gini = 0.0</text>\n<text text-anchor=\"middle\" x=\"1652\" y=\"-119.3\" font-family=\"Times,serif\" font-size=\"14.00\" fill=\"#000000\">samples = 3</text>\n<text text-anchor=\"middle\" x=\"1652\" y=\"-104.3\" font-family=\"Times,serif\" font-size=\"14.00\" fill=\"#000000\">value = [0, 3]</text>\n</g>\n<!-- 46&#45;&gt;47 -->\n<g id=\"edge47\" class=\"edge\">\n<title>46&#45;&gt;47</title>\n<path fill=\"none\" stroke=\"#000000\" d=\"M1652,-192.9465C1652,-182.2621 1652,-170.4254 1652,-159.5742\"/>\n<polygon fill=\"#000000\" stroke=\"#000000\" points=\"1655.5001,-159.5421 1652,-149.5422 1648.5001,-159.5422 1655.5001,-159.5421\"/>\n</g>\n<!-- 48 -->\n<g id=\"node49\" class=\"node\">\n<title>48</title>\n<polygon fill=\"none\" stroke=\"#000000\" points=\"1812.5,-149.5 1717.5,-149.5 1717.5,-96.5 1812.5,-96.5 1812.5,-149.5\"/>\n<text text-anchor=\"middle\" x=\"1765\" y=\"-134.3\" font-family=\"Times,serif\" font-size=\"14.00\" fill=\"#000000\">gini = 0.0</text>\n<text text-anchor=\"middle\" x=\"1765\" y=\"-119.3\" font-family=\"Times,serif\" font-size=\"14.00\" fill=\"#000000\">samples = 1</text>\n<text text-anchor=\"middle\" x=\"1765\" y=\"-104.3\" font-family=\"Times,serif\" font-size=\"14.00\" fill=\"#000000\">value = [1, 0]</text>\n</g>\n<!-- 46&#45;&gt;48 -->\n<g id=\"edge48\" class=\"edge\">\n<title>46&#45;&gt;48</title>\n<path fill=\"none\" stroke=\"#000000\" d=\"M1689.0004,-192.9465C1701.6866,-181.2707 1715.8678,-168.219 1728.513,-156.5809\"/>\n<polygon fill=\"#000000\" stroke=\"#000000\" points=\"1731.1731,-158.8895 1736.1609,-149.5422 1726.4327,-153.7389 1731.1731,-158.8895\"/>\n</g>\n</g>\n</svg>\n"
          },
          "metadata": {
            "tags": []
          },
          "execution_count": 31
        }
      ]
    },
    {
      "cell_type": "code",
      "metadata": {
        "id": "oKjX8MSbVelM",
        "colab_type": "code",
        "colab": {}
      },
      "source": [
        ""
      ],
      "execution_count": 0,
      "outputs": []
    }
  ]
}