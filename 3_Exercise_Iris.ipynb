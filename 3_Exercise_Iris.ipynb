{
  "nbformat": 4,
  "nbformat_minor": 0,
  "metadata": {
    "kernelspec": {
      "display_name": "Python 3",
      "language": "python",
      "name": "python3"
    },
    "language_info": {
      "codemirror_mode": {
        "name": "ipython",
        "version": 3
      },
      "file_extension": ".py",
      "mimetype": "text/x-python",
      "name": "python",
      "nbconvert_exporter": "python",
      "pygments_lexer": "ipython3",
      "version": "3.7.3"
    },
    "colab": {
      "name": "3-Exercise-Iris.ipynb",
      "provenance": [],
      "include_colab_link": true
    }
  },
  "cells": [
    {
      "cell_type": "markdown",
      "metadata": {
        "id": "view-in-github",
        "colab_type": "text"
      },
      "source": [
        "<a href=\"https://colab.research.google.com/github/TranToQuePhuong/AI_Lab06/blob/master/3_Exercise_Iris.ipynb\" target=\"_parent\"><img src=\"https://colab.research.google.com/assets/colab-badge.svg\" alt=\"Open In Colab\"/></a>"
      ]
    },
    {
      "cell_type": "markdown",
      "metadata": {
        "id": "4_5su2zf-Dam",
        "colab_type": "text"
      },
      "source": [
        "# Bài tập Decision Tree"
      ]
    },
    {
      "cell_type": "markdown",
      "metadata": {
        "_cell_guid": "e93323c0-07e0-6b2c-47d1-1f82bb4e9b56",
        "id": "YOB9qS8I-Dao",
        "colab_type": "text"
      },
      "source": [
        "## Use Decision Tree to classify the Iris dataset\n",
        "- dataset: 'Iris.csv'\n"
      ]
    },
    {
      "cell_type": "markdown",
      "metadata": {
        "id": "Cpa_ixcWBeaG",
        "colab_type": "text"
      },
      "source": [
        "# **Grab the data**\n",
        "Since our file is in CSV format, we will use panda's read_csv method to read our CSV data file. Execute the following script to do so:"
      ]
    },
    {
      "cell_type": "code",
      "metadata": {
        "id": "maU5B1pj-Dap",
        "colab_type": "code",
        "colab": {}
      },
      "source": [
        "import pandas as pd"
      ],
      "execution_count": 0,
      "outputs": []
    },
    {
      "cell_type": "code",
      "metadata": {
        "id": "Wua34rn7-Dat",
        "colab_type": "code",
        "colab": {
          "base_uri": "https://localhost:8080/",
          "height": 204
        },
        "outputId": "3853c78c-d8c8-4f07-93ea-420d8e72a85c"
      },
      "source": [
        "dataset = pd.read_csv('Iris.csv')\n",
        "dataset.shape\n",
        "\n",
        "# Overview about dataset\n",
        "dataset.keys()\n",
        "\n",
        "dataset.head()  "
      ],
      "execution_count": 21,
      "outputs": [
        {
          "output_type": "execute_result",
          "data": {
            "text/html": [
              "<div>\n",
              "<style scoped>\n",
              "    .dataframe tbody tr th:only-of-type {\n",
              "        vertical-align: middle;\n",
              "    }\n",
              "\n",
              "    .dataframe tbody tr th {\n",
              "        vertical-align: top;\n",
              "    }\n",
              "\n",
              "    .dataframe thead th {\n",
              "        text-align: right;\n",
              "    }\n",
              "</style>\n",
              "<table border=\"1\" class=\"dataframe\">\n",
              "  <thead>\n",
              "    <tr style=\"text-align: right;\">\n",
              "      <th></th>\n",
              "      <th>Id</th>\n",
              "      <th>SepalLengthCm</th>\n",
              "      <th>SepalWidthCm</th>\n",
              "      <th>PetalLengthCm</th>\n",
              "      <th>PetalWidthCm</th>\n",
              "      <th>Species</th>\n",
              "    </tr>\n",
              "  </thead>\n",
              "  <tbody>\n",
              "    <tr>\n",
              "      <th>0</th>\n",
              "      <td>1</td>\n",
              "      <td>5.1</td>\n",
              "      <td>3.5</td>\n",
              "      <td>1.4</td>\n",
              "      <td>0.2</td>\n",
              "      <td>Iris-setosa</td>\n",
              "    </tr>\n",
              "    <tr>\n",
              "      <th>1</th>\n",
              "      <td>2</td>\n",
              "      <td>4.9</td>\n",
              "      <td>3.0</td>\n",
              "      <td>1.4</td>\n",
              "      <td>0.2</td>\n",
              "      <td>Iris-setosa</td>\n",
              "    </tr>\n",
              "    <tr>\n",
              "      <th>2</th>\n",
              "      <td>3</td>\n",
              "      <td>4.7</td>\n",
              "      <td>3.2</td>\n",
              "      <td>1.3</td>\n",
              "      <td>0.2</td>\n",
              "      <td>Iris-setosa</td>\n",
              "    </tr>\n",
              "    <tr>\n",
              "      <th>3</th>\n",
              "      <td>4</td>\n",
              "      <td>4.6</td>\n",
              "      <td>3.1</td>\n",
              "      <td>1.5</td>\n",
              "      <td>0.2</td>\n",
              "      <td>Iris-setosa</td>\n",
              "    </tr>\n",
              "    <tr>\n",
              "      <th>4</th>\n",
              "      <td>5</td>\n",
              "      <td>5.0</td>\n",
              "      <td>3.6</td>\n",
              "      <td>1.4</td>\n",
              "      <td>0.2</td>\n",
              "      <td>Iris-setosa</td>\n",
              "    </tr>\n",
              "  </tbody>\n",
              "</table>\n",
              "</div>"
            ],
            "text/plain": [
              "   Id  SepalLengthCm  SepalWidthCm  PetalLengthCm  PetalWidthCm      Species\n",
              "0   1            5.1           3.5            1.4           0.2  Iris-setosa\n",
              "1   2            4.9           3.0            1.4           0.2  Iris-setosa\n",
              "2   3            4.7           3.2            1.3           0.2  Iris-setosa\n",
              "3   4            4.6           3.1            1.5           0.2  Iris-setosa\n",
              "4   5            5.0           3.6            1.4           0.2  Iris-setosa"
            ]
          },
          "metadata": {
            "tags": []
          },
          "execution_count": 21
        }
      ]
    },
    {
      "cell_type": "markdown",
      "metadata": {
        "id": "1dTLeQBmBxOu",
        "colab_type": "text"
      },
      "source": [
        "# **Prepare train data and test set**\n",
        "\n",
        "\n"
      ]
    },
    {
      "cell_type": "markdown",
      "metadata": {
        "id": "-_-OpEZmCNzU",
        "colab_type": "text"
      },
      "source": [
        ""
      ]
    },
    {
      "cell_type": "markdown",
      "metadata": {
        "id": "kAxIAFOwCHIE",
        "colab_type": "text"
      },
      "source": [
        "The label is describe in **Species** column. So that we devide the dataset into attributes and labels"
      ]
    },
    {
      "cell_type": "code",
      "metadata": {
        "id": "Fc6rNf-r_wTc",
        "colab_type": "code",
        "colab": {}
      },
      "source": [
        "X = dataset.drop('Species', axis=1)  \n",
        "y = dataset['Species']  "
      ],
      "execution_count": 0,
      "outputs": []
    },
    {
      "cell_type": "markdown",
      "metadata": {
        "id": "tRM11UvpCVPR",
        "colab_type": "text"
      },
      "source": [
        "Here the X variable contains all the columns from the dataset, except the **Species** column, which is the label.\n",
        "\n",
        "The y variable contains the values from the **Species** column.\n",
        "\n",
        "The X variable is our attribute set and y variable contains corresponding labels"
      ]
    },
    {
      "cell_type": "markdown",
      "metadata": {
        "id": "0CJDEu32CmID",
        "colab_type": "text"
      },
      "source": [
        "# **Dividing our data into training and test sets**"
      ]
    },
    {
      "cell_type": "markdown",
      "metadata": {
        "id": "cR8lAE6vC5Ca",
        "colab_type": "text"
      },
      "source": [
        "So, we split the test into 2 sets: training set and testing set. We use to split up 20% of the data in to the test set and 80% for training."
      ]
    },
    {
      "cell_type": "code",
      "metadata": {
        "id": "LyOkAEtvADmq",
        "colab_type": "code",
        "colab": {
          "base_uri": "https://localhost:8080/",
          "height": 51
        },
        "outputId": "eeec6fa8-9953-43d6-803e-6cd7f659ab50"
      },
      "source": [
        "from sklearn.model_selection import train_test_split  \n",
        "X_train, X_test, y_train, y_test = train_test_split(X, y, test_size=0.20)\n",
        "print(X_train.shape, y_train.size)\n",
        "print(X_test.shape, y_test.shape)"
      ],
      "execution_count": 23,
      "outputs": [
        {
          "output_type": "stream",
          "text": [
            "(120, 5) 120\n",
            "(30, 5) (30,)\n"
          ],
          "name": "stdout"
        }
      ]
    },
    {
      "cell_type": "markdown",
      "metadata": {
        "id": "pRWqxc2vC-1M",
        "colab_type": "text"
      },
      "source": [
        "# **Training with Decision Tree**\n"
      ]
    },
    {
      "cell_type": "markdown",
      "metadata": {
        "id": "xX0_mYtbDNG4",
        "colab_type": "text"
      },
      "source": [
        "Now, let's build a **Decision Tree** model"
      ]
    },
    {
      "cell_type": "markdown",
      "metadata": {
        "id": "cUTGUGIxDRYt",
        "colab_type": "text"
      },
      "source": [
        "### a) criterion='gini'"
      ]
    },
    {
      "cell_type": "code",
      "metadata": {
        "id": "mCjrWiQDAFMp",
        "colab_type": "code",
        "colab": {
          "base_uri": "https://localhost:8080/",
          "height": 119
        },
        "outputId": "a6d4829c-572f-46c1-fdc4-35d68edf1473"
      },
      "source": [
        "from sklearn.tree import DecisionTreeClassifier  \n",
        "dt = DecisionTreeClassifier(criterion='gini')  \n",
        "dt.fit(X_train, y_train) "
      ],
      "execution_count": 24,
      "outputs": [
        {
          "output_type": "execute_result",
          "data": {
            "text/plain": [
              "DecisionTreeClassifier(ccp_alpha=0.0, class_weight=None, criterion='gini',\n",
              "                       max_depth=None, max_features=None, max_leaf_nodes=None,\n",
              "                       min_impurity_decrease=0.0, min_impurity_split=None,\n",
              "                       min_samples_leaf=1, min_samples_split=2,\n",
              "                       min_weight_fraction_leaf=0.0, presort='deprecated',\n",
              "                       random_state=None, splitter='best')"
            ]
          },
          "metadata": {
            "tags": []
          },
          "execution_count": 24
        }
      ]
    },
    {
      "cell_type": "code",
      "metadata": {
        "id": "VA-yVv7ZAJz2",
        "colab_type": "code",
        "colab": {
          "base_uri": "https://localhost:8080/",
          "height": 170
        },
        "outputId": "eced205e-7a05-43d0-9728-89f2b213da1d"
      },
      "source": [
        "y_pred_dt = dt.predict(X_test)  \n",
        "y_pred_dt"
      ],
      "execution_count": 25,
      "outputs": [
        {
          "output_type": "execute_result",
          "data": {
            "text/plain": [
              "array(['Iris-virginica', 'Iris-virginica', 'Iris-setosa',\n",
              "       'Iris-versicolor', 'Iris-versicolor', 'Iris-setosa',\n",
              "       'Iris-versicolor', 'Iris-setosa', 'Iris-virginica',\n",
              "       'Iris-versicolor', 'Iris-versicolor', 'Iris-setosa',\n",
              "       'Iris-versicolor', 'Iris-virginica', 'Iris-setosa', 'Iris-setosa',\n",
              "       'Iris-versicolor', 'Iris-virginica', 'Iris-virginica',\n",
              "       'Iris-setosa', 'Iris-virginica', 'Iris-setosa', 'Iris-versicolor',\n",
              "       'Iris-versicolor', 'Iris-virginica', 'Iris-setosa', 'Iris-setosa',\n",
              "       'Iris-setosa', 'Iris-setosa', 'Iris-versicolor'], dtype=object)"
            ]
          },
          "metadata": {
            "tags": []
          },
          "execution_count": 25
        }
      ]
    },
    {
      "cell_type": "markdown",
      "metadata": {
        "id": "z5N2P5IuDc1r",
        "colab_type": "text"
      },
      "source": [
        "Evaluating the Algorithm"
      ]
    },
    {
      "cell_type": "code",
      "metadata": {
        "id": "jsSeRuaeAL-i",
        "colab_type": "code",
        "colab": {
          "base_uri": "https://localhost:8080/",
          "height": 34
        },
        "outputId": "35f5af8b-2735-4346-8fd1-2d02845783ee"
      },
      "source": [
        "dt_score = dt.score(X_test, y_test)\n",
        "print(f\"Decision Tree classifier accuracy score is {dt_score}\")"
      ],
      "execution_count": 26,
      "outputs": [
        {
          "output_type": "stream",
          "text": [
            "Decision Tree classifier accuracy score is 1.0\n"
          ],
          "name": "stdout"
        }
      ]
    },
    {
      "cell_type": "markdown",
      "metadata": {
        "id": "urxuzaW_DhWN",
        "colab_type": "text"
      },
      "source": [
        "### b) criterion='entropy'"
      ]
    },
    {
      "cell_type": "code",
      "metadata": {
        "id": "zdTYt4CZAQuB",
        "colab_type": "code",
        "colab": {
          "base_uri": "https://localhost:8080/",
          "height": 119
        },
        "outputId": "c7a4be5d-176b-4601-8754-8e7d73102ea3"
      },
      "source": [
        "from sklearn.tree import DecisionTreeClassifier  \n",
        "dt2 = DecisionTreeClassifier(criterion='entropy')  \n",
        "dt2.fit(X_train, y_train)  "
      ],
      "execution_count": 27,
      "outputs": [
        {
          "output_type": "execute_result",
          "data": {
            "text/plain": [
              "DecisionTreeClassifier(ccp_alpha=0.0, class_weight=None, criterion='entropy',\n",
              "                       max_depth=None, max_features=None, max_leaf_nodes=None,\n",
              "                       min_impurity_decrease=0.0, min_impurity_split=None,\n",
              "                       min_samples_leaf=1, min_samples_split=2,\n",
              "                       min_weight_fraction_leaf=0.0, presort='deprecated',\n",
              "                       random_state=None, splitter='best')"
            ]
          },
          "metadata": {
            "tags": []
          },
          "execution_count": 27
        }
      ]
    },
    {
      "cell_type": "code",
      "metadata": {
        "id": "0YWP-weJAS1j",
        "colab_type": "code",
        "colab": {
          "base_uri": "https://localhost:8080/",
          "height": 170
        },
        "outputId": "81190c33-c4c3-401e-c10e-f564bb2e91f7"
      },
      "source": [
        "y_pred_dt = dt2.predict(X_test)  \n",
        "y_pred_dt"
      ],
      "execution_count": 28,
      "outputs": [
        {
          "output_type": "execute_result",
          "data": {
            "text/plain": [
              "array(['Iris-virginica', 'Iris-virginica', 'Iris-setosa',\n",
              "       'Iris-versicolor', 'Iris-versicolor', 'Iris-setosa',\n",
              "       'Iris-versicolor', 'Iris-setosa', 'Iris-virginica',\n",
              "       'Iris-versicolor', 'Iris-versicolor', 'Iris-setosa',\n",
              "       'Iris-versicolor', 'Iris-virginica', 'Iris-setosa', 'Iris-setosa',\n",
              "       'Iris-versicolor', 'Iris-virginica', 'Iris-virginica',\n",
              "       'Iris-setosa', 'Iris-virginica', 'Iris-setosa', 'Iris-versicolor',\n",
              "       'Iris-versicolor', 'Iris-virginica', 'Iris-setosa', 'Iris-setosa',\n",
              "       'Iris-setosa', 'Iris-setosa', 'Iris-versicolor'], dtype=object)"
            ]
          },
          "metadata": {
            "tags": []
          },
          "execution_count": 28
        }
      ]
    },
    {
      "cell_type": "markdown",
      "metadata": {
        "id": "O0zgvLZ0Dmii",
        "colab_type": "text"
      },
      "source": [
        "##### Evaluating the Algorithm\n",
        "\n"
      ]
    },
    {
      "cell_type": "code",
      "metadata": {
        "id": "crzDDlt2AVRx",
        "colab_type": "code",
        "colab": {
          "base_uri": "https://localhost:8080/",
          "height": 34
        },
        "outputId": "e58129a3-77c6-497a-f2a5-3f7fb87603a2"
      },
      "source": [
        "dt_score = dt.score(X_test, y_test)\n",
        "print(f\"Decision Tree classifier accuracy score is {dt_score}\")"
      ],
      "execution_count": 29,
      "outputs": [
        {
          "output_type": "stream",
          "text": [
            "Decision Tree classifier accuracy score is 1.0\n"
          ],
          "name": "stdout"
        }
      ]
    },
    {
      "cell_type": "markdown",
      "metadata": {
        "id": "WK9qMO0JDrEw",
        "colab_type": "text"
      },
      "source": [
        "#**Extra section**"
      ]
    },
    {
      "cell_type": "markdown",
      "metadata": {
        "id": "uD0Dp6_VD0jd",
        "colab_type": "text"
      },
      "source": [
        "We can visualize the Decision Tree model using the [Graphviz](https://www.graphviz.org/) tool.\n",
        "\n",
        "So let's generate the graph."
      ]
    },
    {
      "cell_type": "code",
      "metadata": {
        "id": "DstoqPw0Au1Z",
        "colab_type": "code",
        "colab": {
          "base_uri": "https://localhost:8080/",
          "height": 221
        },
        "outputId": "ec1da5d0-f798-4af8-e733-5d67b5ab5b7f"
      },
      "source": [
        "from sklearn.tree import export_graphviz\n",
        "dot_data = export_graphviz(dt, out_file=None)\n",
        "print(dot_data)"
      ],
      "execution_count": 30,
      "outputs": [
        {
          "output_type": "stream",
          "text": [
            "digraph Tree {\n",
            "node [shape=box] ;\n",
            "0 [label=\"X[0] <= 100.5\\ngini = 0.666\\nsamples = 120\\nvalue = [38, 40, 42]\"] ;\n",
            "1 [label=\"X[4] <= 0.75\\ngini = 0.5\\nsamples = 78\\nvalue = [38, 40, 0]\"] ;\n",
            "0 -> 1 [labeldistance=2.5, labelangle=45, headlabel=\"True\"] ;\n",
            "2 [label=\"gini = 0.0\\nsamples = 38\\nvalue = [38, 0, 0]\"] ;\n",
            "1 -> 2 ;\n",
            "3 [label=\"gini = 0.0\\nsamples = 40\\nvalue = [0, 40, 0]\"] ;\n",
            "1 -> 3 ;\n",
            "4 [label=\"gini = 0.0\\nsamples = 42\\nvalue = [0, 0, 42]\"] ;\n",
            "0 -> 4 [labeldistance=2.5, labelangle=-45, headlabel=\"False\"] ;\n",
            "}\n"
          ],
          "name": "stdout"
        }
      ]
    },
    {
      "cell_type": "markdown",
      "metadata": {
        "id": "vTec5GcNEA54",
        "colab_type": "text"
      },
      "source": [
        "# **Jypiter does it all**"
      ]
    },
    {
      "cell_type": "markdown",
      "metadata": {
        "id": "-6C5YDvnESmj",
        "colab_type": "text"
      },
      "source": [
        "If we want to display the graph automatically inside Jupiter, we'll need\n",
        "* Install Graphviz binary\n",
        "* Call the Graphviz inside Jupiter and grab the result.\n",
        "\n",
        "**Note**: Google Colab does not let us install Graphviz binary, so that we cant make with work with Google Colab.\n"
      ]
    },
    {
      "cell_type": "code",
      "metadata": {
        "id": "orll57x6AktG",
        "colab_type": "code",
        "colab": {
          "base_uri": "https://localhost:8080/",
          "height": 380
        },
        "outputId": "55106175-bbf9-4fb5-efe8-766884c38538"
      },
      "source": [
        "import graphviz \n",
        "graph = graphviz.Source(dot_data)\n",
        "graph"
      ],
      "execution_count": 31,
      "outputs": [
        {
          "output_type": "execute_result",
          "data": {
            "text/plain": [
              "<graphviz.files.Source at 0x7f1ee04a5a90>"
            ],
            "image/svg+xml": "<?xml version=\"1.0\" encoding=\"UTF-8\" standalone=\"no\"?>\n<!DOCTYPE svg PUBLIC \"-//W3C//DTD SVG 1.1//EN\"\n \"http://www.w3.org/Graphics/SVG/1.1/DTD/svg11.dtd\">\n<!-- Generated by graphviz version 2.40.1 (20161225.0304)\n -->\n<!-- Title: Tree Pages: 1 -->\n<svg width=\"331pt\" height=\"269pt\"\n viewBox=\"0.00 0.00 331.00 269.00\" xmlns=\"http://www.w3.org/2000/svg\" xmlns:xlink=\"http://www.w3.org/1999/xlink\">\n<g id=\"graph0\" class=\"graph\" transform=\"scale(1 1) rotate(0) translate(4 265)\">\n<title>Tree</title>\n<polygon fill=\"#ffffff\" stroke=\"transparent\" points=\"-4,4 -4,-265 327,-265 327,4 -4,4\"/>\n<!-- 0 -->\n<g id=\"node1\" class=\"node\">\n<title>0</title>\n<polygon fill=\"none\" stroke=\"#000000\" points=\"260.5,-261 128.5,-261 128.5,-193 260.5,-193 260.5,-261\"/>\n<text text-anchor=\"middle\" x=\"194.5\" y=\"-245.8\" font-family=\"Times,serif\" font-size=\"14.00\" fill=\"#000000\">X[0] &lt;= 100.5</text>\n<text text-anchor=\"middle\" x=\"194.5\" y=\"-230.8\" font-family=\"Times,serif\" font-size=\"14.00\" fill=\"#000000\">gini = 0.666</text>\n<text text-anchor=\"middle\" x=\"194.5\" y=\"-215.8\" font-family=\"Times,serif\" font-size=\"14.00\" fill=\"#000000\">samples = 120</text>\n<text text-anchor=\"middle\" x=\"194.5\" y=\"-200.8\" font-family=\"Times,serif\" font-size=\"14.00\" fill=\"#000000\">value = [38, 40, 42]</text>\n</g>\n<!-- 1 -->\n<g id=\"node2\" class=\"node\">\n<title>1</title>\n<polygon fill=\"none\" stroke=\"#000000\" points=\"188,-157 63,-157 63,-89 188,-89 188,-157\"/>\n<text text-anchor=\"middle\" x=\"125.5\" y=\"-141.8\" font-family=\"Times,serif\" font-size=\"14.00\" fill=\"#000000\">X[4] &lt;= 0.75</text>\n<text text-anchor=\"middle\" x=\"125.5\" y=\"-126.8\" font-family=\"Times,serif\" font-size=\"14.00\" fill=\"#000000\">gini = 0.5</text>\n<text text-anchor=\"middle\" x=\"125.5\" y=\"-111.8\" font-family=\"Times,serif\" font-size=\"14.00\" fill=\"#000000\">samples = 78</text>\n<text text-anchor=\"middle\" x=\"125.5\" y=\"-96.8\" font-family=\"Times,serif\" font-size=\"14.00\" fill=\"#000000\">value = [38, 40, 0]</text>\n</g>\n<!-- 0&#45;&gt;1 -->\n<g id=\"edge1\" class=\"edge\">\n<title>0&#45;&gt;1</title>\n<path fill=\"none\" stroke=\"#000000\" d=\"M171.9068,-192.9465C166.1286,-184.2373 159.8425,-174.7626 153.8166,-165.6801\"/>\n<polygon fill=\"#000000\" stroke=\"#000000\" points=\"156.589,-163.5278 148.1439,-157.13 150.756,-167.3978 156.589,-163.5278\"/>\n<text text-anchor=\"middle\" x=\"143.1866\" y=\"-177.9336\" font-family=\"Times,serif\" font-size=\"14.00\" fill=\"#000000\">True</text>\n</g>\n<!-- 4 -->\n<g id=\"node5\" class=\"node\">\n<title>4</title>\n<polygon fill=\"none\" stroke=\"#000000\" points=\"323,-149.5 206,-149.5 206,-96.5 323,-96.5 323,-149.5\"/>\n<text text-anchor=\"middle\" x=\"264.5\" y=\"-134.3\" font-family=\"Times,serif\" font-size=\"14.00\" fill=\"#000000\">gini = 0.0</text>\n<text text-anchor=\"middle\" x=\"264.5\" y=\"-119.3\" font-family=\"Times,serif\" font-size=\"14.00\" fill=\"#000000\">samples = 42</text>\n<text text-anchor=\"middle\" x=\"264.5\" y=\"-104.3\" font-family=\"Times,serif\" font-size=\"14.00\" fill=\"#000000\">value = [0, 0, 42]</text>\n</g>\n<!-- 0&#45;&gt;4 -->\n<g id=\"edge4\" class=\"edge\">\n<title>0&#45;&gt;4</title>\n<path fill=\"none\" stroke=\"#000000\" d=\"M217.4206,-192.9465C224.9828,-181.7113 233.4024,-169.2021 241.0067,-157.9043\"/>\n<polygon fill=\"#000000\" stroke=\"#000000\" points=\"243.9548,-159.7924 246.6351,-149.5422 238.1477,-155.8837 243.9548,-159.7924\"/>\n<text text-anchor=\"middle\" x=\"251.4295\" y=\"-170.3781\" font-family=\"Times,serif\" font-size=\"14.00\" fill=\"#000000\">False</text>\n</g>\n<!-- 2 -->\n<g id=\"node3\" class=\"node\">\n<title>2</title>\n<polygon fill=\"none\" stroke=\"#000000\" points=\"117,-53 0,-53 0,0 117,0 117,-53\"/>\n<text text-anchor=\"middle\" x=\"58.5\" y=\"-37.8\" font-family=\"Times,serif\" font-size=\"14.00\" fill=\"#000000\">gini = 0.0</text>\n<text text-anchor=\"middle\" x=\"58.5\" y=\"-22.8\" font-family=\"Times,serif\" font-size=\"14.00\" fill=\"#000000\">samples = 38</text>\n<text text-anchor=\"middle\" x=\"58.5\" y=\"-7.8\" font-family=\"Times,serif\" font-size=\"14.00\" fill=\"#000000\">value = [38, 0, 0]</text>\n</g>\n<!-- 1&#45;&gt;2 -->\n<g id=\"edge2\" class=\"edge\">\n<title>1&#45;&gt;2</title>\n<path fill=\"none\" stroke=\"#000000\" d=\"M101.8783,-88.9777C95.7113,-80.0954 89.0539,-70.5067 82.8499,-61.5711\"/>\n<polygon fill=\"#000000\" stroke=\"#000000\" points=\"85.6497,-59.4666 77.0715,-53.2485 79.8997,-63.4589 85.6497,-59.4666\"/>\n</g>\n<!-- 3 -->\n<g id=\"node4\" class=\"node\">\n<title>3</title>\n<polygon fill=\"none\" stroke=\"#000000\" points=\"252,-53 135,-53 135,0 252,0 252,-53\"/>\n<text text-anchor=\"middle\" x=\"193.5\" y=\"-37.8\" font-family=\"Times,serif\" font-size=\"14.00\" fill=\"#000000\">gini = 0.0</text>\n<text text-anchor=\"middle\" x=\"193.5\" y=\"-22.8\" font-family=\"Times,serif\" font-size=\"14.00\" fill=\"#000000\">samples = 40</text>\n<text text-anchor=\"middle\" x=\"193.5\" y=\"-7.8\" font-family=\"Times,serif\" font-size=\"14.00\" fill=\"#000000\">value = [0, 40, 0]</text>\n</g>\n<!-- 1&#45;&gt;3 -->\n<g id=\"edge3\" class=\"edge\">\n<title>1&#45;&gt;3</title>\n<path fill=\"none\" stroke=\"#000000\" d=\"M149.4743,-88.9777C155.7333,-80.0954 162.4901,-70.5067 168.7867,-61.5711\"/>\n<polygon fill=\"#000000\" stroke=\"#000000\" points=\"171.7521,-63.4389 174.6513,-53.2485 166.0301,-59.4068 171.7521,-63.4389\"/>\n</g>\n</g>\n</svg>\n"
          },
          "metadata": {
            "tags": []
          },
          "execution_count": 31
        }
      ]
    }
  ]
}